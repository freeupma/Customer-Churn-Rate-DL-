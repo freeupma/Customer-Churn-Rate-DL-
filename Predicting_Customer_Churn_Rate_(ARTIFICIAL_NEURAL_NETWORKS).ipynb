{
  "nbformat": 4,
  "nbformat_minor": 0,
  "metadata": {
    "colab": {
      "provenance": [],
      "collapsed_sections": [
        "8glOZBUVmYPw",
        "ngM4scLHmZaO",
        "3IxBW0fZmfVp",
        "FQfgXr9Jmnrj"
      ]
    },
    "kernelspec": {
      "name": "python3",
      "display_name": "Python 3"
    },
    "language_info": {
      "name": "python"
    }
  },
  "cells": [
    {
      "cell_type": "markdown",
      "source": [
        "# **A Deep Learning Model to Predict Customer Churn in The Telecom Industry**\n"
      ],
      "metadata": {
        "id": "wHS41PYcl3_x"
      }
    },
    {
      "cell_type": "markdown",
      "source": [
        "##**1. Statement of the Problem**\n",
        "> Churn rate is a metric that gives the total percentage of customers who discontinue their subscriptions within a particular period. Notably, a high churn rate could potentially affect a company's profitablity and its growth.\n",
        "\n",
        "> It is crucial to keep track of a company's churn rate by looking out for patterns among the customers who discontinue their subscripitons in order to develop strategies that will help better the services and in the long run retain the customers for a long period.\n",
        "\n",
        "> In this project, we will do an exploratory data analysis on a Telco dataset obtained from Kaggle to identify what the customers who churned had in common and also develop a deep learning model for a churn prediction.\n",
        "\n",
        "\n",
        "\n"
      ],
      "metadata": {
        "id": "8glOZBUVmYPw"
      }
    },
    {
      "cell_type": "markdown",
      "source": [
        "### 1.1 Objectives\n",
        "\n",
        "* Are there any patterns in churn customers based on gender?\n",
        "* Are there any patterns based on churn based on the paymment method?\n",
        "* Create an artificial neural network model that predicts customer churn rate\n",
        "  \n",
        "\n"
      ],
      "metadata": {
        "id": "jIubFJgPyUSG"
      }
    },
    {
      "cell_type": "markdown",
      "source": [
        "### 1.2 Defining the Metric for Success\n",
        "\n",
        "> Being able to create a deep learning model to predict customer churn in the telecom industry with an accuracy of 95%\n",
        "\n",
        "\n",
        "\n"
      ],
      "metadata": {
        "id": "ngM4scLHmZaO"
      }
    },
    {
      "cell_type": "markdown",
      "source": [
        "###1.3 Understanding the Context\n",
        "\n",
        "The data set includes information about:\n",
        "\n",
        "\n",
        "*  **Customers who left within the last month**-the column is called Churn\n",
        "*   **Services that the customers signed up for**-phone, multiple lines, internet, online security, online backup, device protection, tech support, and streaming TV and movies\n",
        "\n",
        "\n",
        "*   **Customer account information**- how long they’ve been a customer, contract, payment method, paperless billing, monthly charges, and total charges\n",
        "\n",
        "*   **Customer Demographics** – gender, age range, and if they have partners and dependents"
      ],
      "metadata": {
        "id": "3IxBW0fZmfVp"
      }
    },
    {
      "cell_type": "markdown",
      "source": [
        "### 1.4 Recording the Experimental Design\n",
        "\n",
        "Perform the following operations:\n",
        "\n",
        "* Define the research question\n",
        "* Load data and preview the dataset\n",
        "* Data cleaning\n",
        "* Perform univariate, bivariate analysis \n",
        "* Implement the solution\n",
        "* Challenge the solution \n",
        "\n"
      ],
      "metadata": {
        "id": "HbarzI6YUW3j"
      }
    },
    {
      "cell_type": "markdown",
      "source": [
        "\n",
        "\n",
        "### 1.5 Understanding the variables\n",
        "\n",
        "\n",
        "\n",
        "The data set includes information about:\n",
        "\n",
        "\n",
        "*  **Customers who left within the last month**-the column is called Churn\n",
        "*   **Services that each customer has signed up for**-phone, multiple lines, internet, online security, online backup, device protection, tech support, and streaming TV and movies\n",
        "\n",
        "\n",
        "*   **Customer account information**- how long they’ve been a customer, contract, payment method, paperless billing, monthly charges, and total charges\n",
        "\n",
        "*   **Demographic info about customers** – gender, age range, and if they have partners and dependents\n",
        "\n",
        "\n",
        "\n"
      ],
      "metadata": {
        "id": "FQfgXr9Jmnrj"
      }
    },
    {
      "cell_type": "markdown",
      "source": [
        "##**2. Reading the Data**"
      ],
      "metadata": {
        "id": "ZanpZh2ImxdR"
      }
    },
    {
      "cell_type": "code",
      "source": [
        "# Import libraries\n",
        "import pandas as pd\n",
        "import numpy as np\n",
        "import matplotlib.pyplot as plt\n",
        "import seaborn as sns\n",
        "\n",
        "import warnings\n",
        "warnings.filterwarnings(\"ignore\")\n"
      ],
      "metadata": {
        "id": "8XIxl4ljNCG1"
      },
      "execution_count": 141,
      "outputs": []
    },
    {
      "cell_type": "code",
      "source": [
        "#Loading our dataset\n",
        "\n",
        "df=pd.read_csv('/content/drive/MyDrive/Telco-Customer-Churn.csv')\n",
        "df.tail()"
      ],
      "metadata": {
        "colab": {
          "base_uri": "https://localhost:8080/",
          "height": 386
        },
        "id": "v5cZTiU2mINY",
        "outputId": "60648119-adeb-412b-86b0-fdc58e9f76dd"
      },
      "execution_count": 142,
      "outputs": [
        {
          "output_type": "execute_result",
          "data": {
            "text/plain": [
              "      customerID  gender  SeniorCitizen Partner Dependents  tenure  \\\n",
              "7038  6840-RESVB    Male              0     Yes        Yes      24   \n",
              "7039  2234-XADUH  Female              0     Yes        Yes      72   \n",
              "7040  4801-JZAZL  Female              0     Yes        Yes      11   \n",
              "7041  8361-LTMKD    Male              1     Yes         No       4   \n",
              "7042  3186-AJIEK    Male              0      No         No      66   \n",
              "\n",
              "     PhoneService     MultipleLines InternetService OnlineSecurity  ...  \\\n",
              "7038          Yes               Yes             DSL            Yes  ...   \n",
              "7039          Yes               Yes     Fiber optic             No  ...   \n",
              "7040           No  No phone service             DSL            Yes  ...   \n",
              "7041          Yes               Yes     Fiber optic             No  ...   \n",
              "7042          Yes                No     Fiber optic            Yes  ...   \n",
              "\n",
              "     DeviceProtection TechSupport StreamingTV StreamingMovies        Contract  \\\n",
              "7038              Yes         Yes         Yes             Yes        One year   \n",
              "7039              Yes          No         Yes             Yes        One year   \n",
              "7040               No          No          No              No  Month-to-month   \n",
              "7041               No          No          No              No  Month-to-month   \n",
              "7042              Yes         Yes         Yes             Yes        Two year   \n",
              "\n",
              "     PaperlessBilling              PaymentMethod MonthlyCharges  TotalCharges  \\\n",
              "7038              Yes               Mailed check          84.80        1990.5   \n",
              "7039              Yes    Credit card (automatic)         103.20        7362.9   \n",
              "7040              Yes           Electronic check          29.60        346.45   \n",
              "7041              Yes               Mailed check          74.40         306.6   \n",
              "7042              Yes  Bank transfer (automatic)         105.65        6844.5   \n",
              "\n",
              "     Churn  \n",
              "7038    No  \n",
              "7039    No  \n",
              "7040    No  \n",
              "7041   Yes  \n",
              "7042    No  \n",
              "\n",
              "[5 rows x 21 columns]"
            ],
            "text/html": [
              "\n",
              "  <div id=\"df-308564f4-32da-43cc-b879-2937838154d7\">\n",
              "    <div class=\"colab-df-container\">\n",
              "      <div>\n",
              "<style scoped>\n",
              "    .dataframe tbody tr th:only-of-type {\n",
              "        vertical-align: middle;\n",
              "    }\n",
              "\n",
              "    .dataframe tbody tr th {\n",
              "        vertical-align: top;\n",
              "    }\n",
              "\n",
              "    .dataframe thead th {\n",
              "        text-align: right;\n",
              "    }\n",
              "</style>\n",
              "<table border=\"1\" class=\"dataframe\">\n",
              "  <thead>\n",
              "    <tr style=\"text-align: right;\">\n",
              "      <th></th>\n",
              "      <th>customerID</th>\n",
              "      <th>gender</th>\n",
              "      <th>SeniorCitizen</th>\n",
              "      <th>Partner</th>\n",
              "      <th>Dependents</th>\n",
              "      <th>tenure</th>\n",
              "      <th>PhoneService</th>\n",
              "      <th>MultipleLines</th>\n",
              "      <th>InternetService</th>\n",
              "      <th>OnlineSecurity</th>\n",
              "      <th>...</th>\n",
              "      <th>DeviceProtection</th>\n",
              "      <th>TechSupport</th>\n",
              "      <th>StreamingTV</th>\n",
              "      <th>StreamingMovies</th>\n",
              "      <th>Contract</th>\n",
              "      <th>PaperlessBilling</th>\n",
              "      <th>PaymentMethod</th>\n",
              "      <th>MonthlyCharges</th>\n",
              "      <th>TotalCharges</th>\n",
              "      <th>Churn</th>\n",
              "    </tr>\n",
              "  </thead>\n",
              "  <tbody>\n",
              "    <tr>\n",
              "      <th>7038</th>\n",
              "      <td>6840-RESVB</td>\n",
              "      <td>Male</td>\n",
              "      <td>0</td>\n",
              "      <td>Yes</td>\n",
              "      <td>Yes</td>\n",
              "      <td>24</td>\n",
              "      <td>Yes</td>\n",
              "      <td>Yes</td>\n",
              "      <td>DSL</td>\n",
              "      <td>Yes</td>\n",
              "      <td>...</td>\n",
              "      <td>Yes</td>\n",
              "      <td>Yes</td>\n",
              "      <td>Yes</td>\n",
              "      <td>Yes</td>\n",
              "      <td>One year</td>\n",
              "      <td>Yes</td>\n",
              "      <td>Mailed check</td>\n",
              "      <td>84.80</td>\n",
              "      <td>1990.5</td>\n",
              "      <td>No</td>\n",
              "    </tr>\n",
              "    <tr>\n",
              "      <th>7039</th>\n",
              "      <td>2234-XADUH</td>\n",
              "      <td>Female</td>\n",
              "      <td>0</td>\n",
              "      <td>Yes</td>\n",
              "      <td>Yes</td>\n",
              "      <td>72</td>\n",
              "      <td>Yes</td>\n",
              "      <td>Yes</td>\n",
              "      <td>Fiber optic</td>\n",
              "      <td>No</td>\n",
              "      <td>...</td>\n",
              "      <td>Yes</td>\n",
              "      <td>No</td>\n",
              "      <td>Yes</td>\n",
              "      <td>Yes</td>\n",
              "      <td>One year</td>\n",
              "      <td>Yes</td>\n",
              "      <td>Credit card (automatic)</td>\n",
              "      <td>103.20</td>\n",
              "      <td>7362.9</td>\n",
              "      <td>No</td>\n",
              "    </tr>\n",
              "    <tr>\n",
              "      <th>7040</th>\n",
              "      <td>4801-JZAZL</td>\n",
              "      <td>Female</td>\n",
              "      <td>0</td>\n",
              "      <td>Yes</td>\n",
              "      <td>Yes</td>\n",
              "      <td>11</td>\n",
              "      <td>No</td>\n",
              "      <td>No phone service</td>\n",
              "      <td>DSL</td>\n",
              "      <td>Yes</td>\n",
              "      <td>...</td>\n",
              "      <td>No</td>\n",
              "      <td>No</td>\n",
              "      <td>No</td>\n",
              "      <td>No</td>\n",
              "      <td>Month-to-month</td>\n",
              "      <td>Yes</td>\n",
              "      <td>Electronic check</td>\n",
              "      <td>29.60</td>\n",
              "      <td>346.45</td>\n",
              "      <td>No</td>\n",
              "    </tr>\n",
              "    <tr>\n",
              "      <th>7041</th>\n",
              "      <td>8361-LTMKD</td>\n",
              "      <td>Male</td>\n",
              "      <td>1</td>\n",
              "      <td>Yes</td>\n",
              "      <td>No</td>\n",
              "      <td>4</td>\n",
              "      <td>Yes</td>\n",
              "      <td>Yes</td>\n",
              "      <td>Fiber optic</td>\n",
              "      <td>No</td>\n",
              "      <td>...</td>\n",
              "      <td>No</td>\n",
              "      <td>No</td>\n",
              "      <td>No</td>\n",
              "      <td>No</td>\n",
              "      <td>Month-to-month</td>\n",
              "      <td>Yes</td>\n",
              "      <td>Mailed check</td>\n",
              "      <td>74.40</td>\n",
              "      <td>306.6</td>\n",
              "      <td>Yes</td>\n",
              "    </tr>\n",
              "    <tr>\n",
              "      <th>7042</th>\n",
              "      <td>3186-AJIEK</td>\n",
              "      <td>Male</td>\n",
              "      <td>0</td>\n",
              "      <td>No</td>\n",
              "      <td>No</td>\n",
              "      <td>66</td>\n",
              "      <td>Yes</td>\n",
              "      <td>No</td>\n",
              "      <td>Fiber optic</td>\n",
              "      <td>Yes</td>\n",
              "      <td>...</td>\n",
              "      <td>Yes</td>\n",
              "      <td>Yes</td>\n",
              "      <td>Yes</td>\n",
              "      <td>Yes</td>\n",
              "      <td>Two year</td>\n",
              "      <td>Yes</td>\n",
              "      <td>Bank transfer (automatic)</td>\n",
              "      <td>105.65</td>\n",
              "      <td>6844.5</td>\n",
              "      <td>No</td>\n",
              "    </tr>\n",
              "  </tbody>\n",
              "</table>\n",
              "<p>5 rows × 21 columns</p>\n",
              "</div>\n",
              "      <button class=\"colab-df-convert\" onclick=\"convertToInteractive('df-308564f4-32da-43cc-b879-2937838154d7')\"\n",
              "              title=\"Convert this dataframe to an interactive table.\"\n",
              "              style=\"display:none;\">\n",
              "        \n",
              "  <svg xmlns=\"http://www.w3.org/2000/svg\" height=\"24px\"viewBox=\"0 0 24 24\"\n",
              "       width=\"24px\">\n",
              "    <path d=\"M0 0h24v24H0V0z\" fill=\"none\"/>\n",
              "    <path d=\"M18.56 5.44l.94 2.06.94-2.06 2.06-.94-2.06-.94-.94-2.06-.94 2.06-2.06.94zm-11 1L8.5 8.5l.94-2.06 2.06-.94-2.06-.94L8.5 2.5l-.94 2.06-2.06.94zm10 10l.94 2.06.94-2.06 2.06-.94-2.06-.94-.94-2.06-.94 2.06-2.06.94z\"/><path d=\"M17.41 7.96l-1.37-1.37c-.4-.4-.92-.59-1.43-.59-.52 0-1.04.2-1.43.59L10.3 9.45l-7.72 7.72c-.78.78-.78 2.05 0 2.83L4 21.41c.39.39.9.59 1.41.59.51 0 1.02-.2 1.41-.59l7.78-7.78 2.81-2.81c.8-.78.8-2.07 0-2.86zM5.41 20L4 18.59l7.72-7.72 1.47 1.35L5.41 20z\"/>\n",
              "  </svg>\n",
              "      </button>\n",
              "      \n",
              "  <style>\n",
              "    .colab-df-container {\n",
              "      display:flex;\n",
              "      flex-wrap:wrap;\n",
              "      gap: 12px;\n",
              "    }\n",
              "\n",
              "    .colab-df-convert {\n",
              "      background-color: #E8F0FE;\n",
              "      border: none;\n",
              "      border-radius: 50%;\n",
              "      cursor: pointer;\n",
              "      display: none;\n",
              "      fill: #1967D2;\n",
              "      height: 32px;\n",
              "      padding: 0 0 0 0;\n",
              "      width: 32px;\n",
              "    }\n",
              "\n",
              "    .colab-df-convert:hover {\n",
              "      background-color: #E2EBFA;\n",
              "      box-shadow: 0px 1px 2px rgba(60, 64, 67, 0.3), 0px 1px 3px 1px rgba(60, 64, 67, 0.15);\n",
              "      fill: #174EA6;\n",
              "    }\n",
              "\n",
              "    [theme=dark] .colab-df-convert {\n",
              "      background-color: #3B4455;\n",
              "      fill: #D2E3FC;\n",
              "    }\n",
              "\n",
              "    [theme=dark] .colab-df-convert:hover {\n",
              "      background-color: #434B5C;\n",
              "      box-shadow: 0px 1px 3px 1px rgba(0, 0, 0, 0.15);\n",
              "      filter: drop-shadow(0px 1px 2px rgba(0, 0, 0, 0.3));\n",
              "      fill: #FFFFFF;\n",
              "    }\n",
              "  </style>\n",
              "\n",
              "      <script>\n",
              "        const buttonEl =\n",
              "          document.querySelector('#df-308564f4-32da-43cc-b879-2937838154d7 button.colab-df-convert');\n",
              "        buttonEl.style.display =\n",
              "          google.colab.kernel.accessAllowed ? 'block' : 'none';\n",
              "\n",
              "        async function convertToInteractive(key) {\n",
              "          const element = document.querySelector('#df-308564f4-32da-43cc-b879-2937838154d7');\n",
              "          const dataTable =\n",
              "            await google.colab.kernel.invokeFunction('convertToInteractive',\n",
              "                                                     [key], {});\n",
              "          if (!dataTable) return;\n",
              "\n",
              "          const docLinkHtml = 'Like what you see? Visit the ' +\n",
              "            '<a target=\"_blank\" href=https://colab.research.google.com/notebooks/data_table.ipynb>data table notebook</a>'\n",
              "            + ' to learn more about interactive tables.';\n",
              "          element.innerHTML = '';\n",
              "          dataTable['output_type'] = 'display_data';\n",
              "          await google.colab.output.renderOutput(dataTable, element);\n",
              "          const docLink = document.createElement('div');\n",
              "          docLink.innerHTML = docLinkHtml;\n",
              "          element.appendChild(docLink);\n",
              "        }\n",
              "      </script>\n",
              "    </div>\n",
              "  </div>\n",
              "  "
            ]
          },
          "metadata": {},
          "execution_count": 142
        }
      ]
    },
    {
      "cell_type": "code",
      "source": [
        "# Check the shape of the data shape \n",
        "df.shape"
      ],
      "metadata": {
        "colab": {
          "base_uri": "https://localhost:8080/"
        },
        "id": "97NmpNQg5a9w",
        "outputId": "237275d3-1f8f-4521-da11-c6501934f083"
      },
      "execution_count": 143,
      "outputs": [
        {
          "output_type": "execute_result",
          "data": {
            "text/plain": [
              "(7043, 21)"
            ]
          },
          "metadata": {},
          "execution_count": 143
        }
      ]
    },
    {
      "cell_type": "markdown",
      "source": [
        "**Observation**\n",
        "\n",
        "> Our dataset has 7043 rows and 21 columns"
      ],
      "metadata": {
        "id": "td0_SmH953uT"
      }
    },
    {
      "cell_type": "code",
      "source": [
        "# Get information about the dataframe\n",
        "df.info()"
      ],
      "metadata": {
        "colab": {
          "base_uri": "https://localhost:8080/"
        },
        "id": "j-Ufrjwt6l-v",
        "outputId": "27a9b153-479f-496e-f8e6-4092f2cc1e7a"
      },
      "execution_count": 144,
      "outputs": [
        {
          "output_type": "stream",
          "name": "stdout",
          "text": [
            "<class 'pandas.core.frame.DataFrame'>\n",
            "RangeIndex: 7043 entries, 0 to 7042\n",
            "Data columns (total 21 columns):\n",
            " #   Column            Non-Null Count  Dtype  \n",
            "---  ------            --------------  -----  \n",
            " 0   customerID        7043 non-null   object \n",
            " 1   gender            7043 non-null   object \n",
            " 2   SeniorCitizen     7043 non-null   int64  \n",
            " 3   Partner           7043 non-null   object \n",
            " 4   Dependents        7043 non-null   object \n",
            " 5   tenure            7043 non-null   int64  \n",
            " 6   PhoneService      7043 non-null   object \n",
            " 7   MultipleLines     7043 non-null   object \n",
            " 8   InternetService   7043 non-null   object \n",
            " 9   OnlineSecurity    7043 non-null   object \n",
            " 10  OnlineBackup      7043 non-null   object \n",
            " 11  DeviceProtection  7043 non-null   object \n",
            " 12  TechSupport       7043 non-null   object \n",
            " 13  StreamingTV       7043 non-null   object \n",
            " 14  StreamingMovies   7043 non-null   object \n",
            " 15  Contract          7043 non-null   object \n",
            " 16  PaperlessBilling  7043 non-null   object \n",
            " 17  PaymentMethod     7043 non-null   object \n",
            " 18  MonthlyCharges    7043 non-null   float64\n",
            " 19  TotalCharges      7043 non-null   object \n",
            " 20  Churn             7043 non-null   object \n",
            "dtypes: float64(1), int64(2), object(18)\n",
            "memory usage: 1.1+ MB\n"
          ]
        }
      ]
    },
    {
      "cell_type": "markdown",
      "source": [
        "**Observation**\n",
        "> There are no NAN values in the 21 columns\n",
        "\n",
        "> The data types are in object, float and integer forms; we need to correct the TotalCharges column datatype to float\n",
        "\n",
        "> One column is in float; 2 columns are in integers; 18 are in objects."
      ],
      "metadata": {
        "id": "zM-l_zDO6_KY"
      }
    },
    {
      "cell_type": "code",
      "source": [
        "# Statistical summary of the numerical columns\n",
        "df.describe()"
      ],
      "metadata": {
        "colab": {
          "base_uri": "https://localhost:8080/",
          "height": 300
        },
        "id": "KW7u-RT4_Kuc",
        "outputId": "d146d529-7b94-4117-93cb-83d266f62f17"
      },
      "execution_count": 145,
      "outputs": [
        {
          "output_type": "execute_result",
          "data": {
            "text/plain": [
              "       SeniorCitizen       tenure  MonthlyCharges\n",
              "count    7043.000000  7043.000000     7043.000000\n",
              "mean        0.162147    32.371149       64.761692\n",
              "std         0.368612    24.559481       30.090047\n",
              "min         0.000000     0.000000       18.250000\n",
              "25%         0.000000     9.000000       35.500000\n",
              "50%         0.000000    29.000000       70.350000\n",
              "75%         0.000000    55.000000       89.850000\n",
              "max         1.000000    72.000000      118.750000"
            ],
            "text/html": [
              "\n",
              "  <div id=\"df-0bb9e004-d2b9-4040-8f53-6d795610d3cf\">\n",
              "    <div class=\"colab-df-container\">\n",
              "      <div>\n",
              "<style scoped>\n",
              "    .dataframe tbody tr th:only-of-type {\n",
              "        vertical-align: middle;\n",
              "    }\n",
              "\n",
              "    .dataframe tbody tr th {\n",
              "        vertical-align: top;\n",
              "    }\n",
              "\n",
              "    .dataframe thead th {\n",
              "        text-align: right;\n",
              "    }\n",
              "</style>\n",
              "<table border=\"1\" class=\"dataframe\">\n",
              "  <thead>\n",
              "    <tr style=\"text-align: right;\">\n",
              "      <th></th>\n",
              "      <th>SeniorCitizen</th>\n",
              "      <th>tenure</th>\n",
              "      <th>MonthlyCharges</th>\n",
              "    </tr>\n",
              "  </thead>\n",
              "  <tbody>\n",
              "    <tr>\n",
              "      <th>count</th>\n",
              "      <td>7043.000000</td>\n",
              "      <td>7043.000000</td>\n",
              "      <td>7043.000000</td>\n",
              "    </tr>\n",
              "    <tr>\n",
              "      <th>mean</th>\n",
              "      <td>0.162147</td>\n",
              "      <td>32.371149</td>\n",
              "      <td>64.761692</td>\n",
              "    </tr>\n",
              "    <tr>\n",
              "      <th>std</th>\n",
              "      <td>0.368612</td>\n",
              "      <td>24.559481</td>\n",
              "      <td>30.090047</td>\n",
              "    </tr>\n",
              "    <tr>\n",
              "      <th>min</th>\n",
              "      <td>0.000000</td>\n",
              "      <td>0.000000</td>\n",
              "      <td>18.250000</td>\n",
              "    </tr>\n",
              "    <tr>\n",
              "      <th>25%</th>\n",
              "      <td>0.000000</td>\n",
              "      <td>9.000000</td>\n",
              "      <td>35.500000</td>\n",
              "    </tr>\n",
              "    <tr>\n",
              "      <th>50%</th>\n",
              "      <td>0.000000</td>\n",
              "      <td>29.000000</td>\n",
              "      <td>70.350000</td>\n",
              "    </tr>\n",
              "    <tr>\n",
              "      <th>75%</th>\n",
              "      <td>0.000000</td>\n",
              "      <td>55.000000</td>\n",
              "      <td>89.850000</td>\n",
              "    </tr>\n",
              "    <tr>\n",
              "      <th>max</th>\n",
              "      <td>1.000000</td>\n",
              "      <td>72.000000</td>\n",
              "      <td>118.750000</td>\n",
              "    </tr>\n",
              "  </tbody>\n",
              "</table>\n",
              "</div>\n",
              "      <button class=\"colab-df-convert\" onclick=\"convertToInteractive('df-0bb9e004-d2b9-4040-8f53-6d795610d3cf')\"\n",
              "              title=\"Convert this dataframe to an interactive table.\"\n",
              "              style=\"display:none;\">\n",
              "        \n",
              "  <svg xmlns=\"http://www.w3.org/2000/svg\" height=\"24px\"viewBox=\"0 0 24 24\"\n",
              "       width=\"24px\">\n",
              "    <path d=\"M0 0h24v24H0V0z\" fill=\"none\"/>\n",
              "    <path d=\"M18.56 5.44l.94 2.06.94-2.06 2.06-.94-2.06-.94-.94-2.06-.94 2.06-2.06.94zm-11 1L8.5 8.5l.94-2.06 2.06-.94-2.06-.94L8.5 2.5l-.94 2.06-2.06.94zm10 10l.94 2.06.94-2.06 2.06-.94-2.06-.94-.94-2.06-.94 2.06-2.06.94z\"/><path d=\"M17.41 7.96l-1.37-1.37c-.4-.4-.92-.59-1.43-.59-.52 0-1.04.2-1.43.59L10.3 9.45l-7.72 7.72c-.78.78-.78 2.05 0 2.83L4 21.41c.39.39.9.59 1.41.59.51 0 1.02-.2 1.41-.59l7.78-7.78 2.81-2.81c.8-.78.8-2.07 0-2.86zM5.41 20L4 18.59l7.72-7.72 1.47 1.35L5.41 20z\"/>\n",
              "  </svg>\n",
              "      </button>\n",
              "      \n",
              "  <style>\n",
              "    .colab-df-container {\n",
              "      display:flex;\n",
              "      flex-wrap:wrap;\n",
              "      gap: 12px;\n",
              "    }\n",
              "\n",
              "    .colab-df-convert {\n",
              "      background-color: #E8F0FE;\n",
              "      border: none;\n",
              "      border-radius: 50%;\n",
              "      cursor: pointer;\n",
              "      display: none;\n",
              "      fill: #1967D2;\n",
              "      height: 32px;\n",
              "      padding: 0 0 0 0;\n",
              "      width: 32px;\n",
              "    }\n",
              "\n",
              "    .colab-df-convert:hover {\n",
              "      background-color: #E2EBFA;\n",
              "      box-shadow: 0px 1px 2px rgba(60, 64, 67, 0.3), 0px 1px 3px 1px rgba(60, 64, 67, 0.15);\n",
              "      fill: #174EA6;\n",
              "    }\n",
              "\n",
              "    [theme=dark] .colab-df-convert {\n",
              "      background-color: #3B4455;\n",
              "      fill: #D2E3FC;\n",
              "    }\n",
              "\n",
              "    [theme=dark] .colab-df-convert:hover {\n",
              "      background-color: #434B5C;\n",
              "      box-shadow: 0px 1px 3px 1px rgba(0, 0, 0, 0.15);\n",
              "      filter: drop-shadow(0px 1px 2px rgba(0, 0, 0, 0.3));\n",
              "      fill: #FFFFFF;\n",
              "    }\n",
              "  </style>\n",
              "\n",
              "      <script>\n",
              "        const buttonEl =\n",
              "          document.querySelector('#df-0bb9e004-d2b9-4040-8f53-6d795610d3cf button.colab-df-convert');\n",
              "        buttonEl.style.display =\n",
              "          google.colab.kernel.accessAllowed ? 'block' : 'none';\n",
              "\n",
              "        async function convertToInteractive(key) {\n",
              "          const element = document.querySelector('#df-0bb9e004-d2b9-4040-8f53-6d795610d3cf');\n",
              "          const dataTable =\n",
              "            await google.colab.kernel.invokeFunction('convertToInteractive',\n",
              "                                                     [key], {});\n",
              "          if (!dataTable) return;\n",
              "\n",
              "          const docLinkHtml = 'Like what you see? Visit the ' +\n",
              "            '<a target=\"_blank\" href=https://colab.research.google.com/notebooks/data_table.ipynb>data table notebook</a>'\n",
              "            + ' to learn more about interactive tables.';\n",
              "          element.innerHTML = '';\n",
              "          dataTable['output_type'] = 'display_data';\n",
              "          await google.colab.output.renderOutput(dataTable, element);\n",
              "          const docLink = document.createElement('div');\n",
              "          docLink.innerHTML = docLinkHtml;\n",
              "          element.appendChild(docLink);\n",
              "        }\n",
              "      </script>\n",
              "    </div>\n",
              "  </div>\n",
              "  "
            ]
          },
          "metadata": {},
          "execution_count": 145
        }
      ]
    },
    {
      "cell_type": "markdown",
      "source": [
        "**Observation**\n",
        "\n",
        ">  The mean and max of the MonthlyCharges is 64.761692 and 118.75 respectively \n",
        "\n",
        ">  We need to convert the TotalCharges datatype from object to float for it to appear in our statistical summary\n"
      ],
      "metadata": {
        "id": "aMqYOZf3AH8O"
      }
    },
    {
      "cell_type": "markdown",
      "source": [
        "##**3. Data Cleaning**\n",
        "> Data cleaning will involve fixing bad data in your data set. The bad data could be:\n",
        "\n",
        "* Null values\n",
        "* Data in wrong format\n",
        "* Wrong data\n",
        "* Duplicates\n"
      ],
      "metadata": {
        "id": "K9xl0Kg1BIa6"
      }
    },
    {
      "cell_type": "code",
      "source": [
        "# Check for null values\n",
        "df.isnull().any()"
      ],
      "metadata": {
        "colab": {
          "base_uri": "https://localhost:8080/"
        },
        "id": "3AWBZ0Z9BLku",
        "outputId": "dcc3afb3-f9ac-4f98-9ace-c2a2b7e94d9e"
      },
      "execution_count": 64,
      "outputs": [
        {
          "output_type": "execute_result",
          "data": {
            "text/plain": [
              "customerID          False\n",
              "gender              False\n",
              "SeniorCitizen       False\n",
              "Partner             False\n",
              "Dependents          False\n",
              "tenure              False\n",
              "PhoneService        False\n",
              "MultipleLines       False\n",
              "InternetService     False\n",
              "OnlineSecurity      False\n",
              "OnlineBackup        False\n",
              "DeviceProtection    False\n",
              "TechSupport         False\n",
              "StreamingTV         False\n",
              "StreamingMovies     False\n",
              "Contract            False\n",
              "PaperlessBilling    False\n",
              "PaymentMethod       False\n",
              "MonthlyCharges      False\n",
              "TotalCharges        False\n",
              "Churn               False\n",
              "dtype: bool"
            ]
          },
          "metadata": {},
          "execution_count": 64
        }
      ]
    },
    {
      "cell_type": "markdown",
      "source": [
        "**Observation**\n",
        "\n",
        "> False output shows that there are no missing values; but we have to change the TotalCharges column into the right datatype"
      ],
      "metadata": {
        "id": "6uouVg0gH3T6"
      }
    },
    {
      "cell_type": "code",
      "source": [
        "# Return the no of missing values in the TotalCharges column\n",
        "sum(df.isnull().values.ravel())"
      ],
      "metadata": {
        "colab": {
          "base_uri": "https://localhost:8080/"
        },
        "id": "aOHzGHL8HGJf",
        "outputId": "d9c29324-87a3-4bb6-8cc9-6e88667174b7"
      },
      "execution_count": 65,
      "outputs": [
        {
          "output_type": "execute_result",
          "data": {
            "text/plain": [
              "0"
            ]
          },
          "metadata": {},
          "execution_count": 65
        }
      ]
    },
    {
      "cell_type": "markdown",
      "source": [
        "**Observation**\n",
        "\n",
        "> There are 11 missing values in the TotalCharges column\n",
        "\n",
        "> We can drop the missing rows "
      ],
      "metadata": {
        "id": "QpA6dYZuCL4p"
      }
    },
    {
      "cell_type": "code",
      "source": [
        "# Convert the TotalCharges column into the correct datatype\n",
        "\n",
        "df['TotalCharges'] = pd.to_numeric(df['TotalCharges'],errors='coerce')\n",
        "df.info()"
      ],
      "metadata": {
        "colab": {
          "base_uri": "https://localhost:8080/"
        },
        "id": "4w1KSHjeEQAp",
        "outputId": "8303f22a-7f58-4c6d-a211-7a4b3a6f703f"
      },
      "execution_count": 66,
      "outputs": [
        {
          "output_type": "stream",
          "name": "stdout",
          "text": [
            "<class 'pandas.core.frame.DataFrame'>\n",
            "RangeIndex: 7043 entries, 0 to 7042\n",
            "Data columns (total 21 columns):\n",
            " #   Column            Non-Null Count  Dtype  \n",
            "---  ------            --------------  -----  \n",
            " 0   customerID        7043 non-null   object \n",
            " 1   gender            7043 non-null   object \n",
            " 2   SeniorCitizen     7043 non-null   int64  \n",
            " 3   Partner           7043 non-null   object \n",
            " 4   Dependents        7043 non-null   object \n",
            " 5   tenure            7043 non-null   int64  \n",
            " 6   PhoneService      7043 non-null   object \n",
            " 7   MultipleLines     7043 non-null   object \n",
            " 8   InternetService   7043 non-null   object \n",
            " 9   OnlineSecurity    7043 non-null   object \n",
            " 10  OnlineBackup      7043 non-null   object \n",
            " 11  DeviceProtection  7043 non-null   object \n",
            " 12  TechSupport       7043 non-null   object \n",
            " 13  StreamingTV       7043 non-null   object \n",
            " 14  StreamingMovies   7043 non-null   object \n",
            " 15  Contract          7043 non-null   object \n",
            " 16  PaperlessBilling  7043 non-null   object \n",
            " 17  PaymentMethod     7043 non-null   object \n",
            " 18  MonthlyCharges    7043 non-null   float64\n",
            " 19  TotalCharges      7032 non-null   float64\n",
            " 20  Churn             7043 non-null   object \n",
            "dtypes: float64(2), int64(2), object(17)\n",
            "memory usage: 1.1+ MB\n"
          ]
        }
      ]
    },
    {
      "cell_type": "markdown",
      "source": [
        "**Observation**\n",
        "\n",
        "> We have converted the TotalCharges column to float from object"
      ],
      "metadata": {
        "id": "hLPZpaxQIM5H"
      }
    },
    {
      "cell_type": "code",
      "source": [
        "df.isnull().any()"
      ],
      "metadata": {
        "colab": {
          "base_uri": "https://localhost:8080/"
        },
        "id": "wrIp0LW8znya",
        "outputId": "544243b4-27f1-4091-cdb8-6380338b0154"
      },
      "execution_count": 67,
      "outputs": [
        {
          "output_type": "execute_result",
          "data": {
            "text/plain": [
              "customerID          False\n",
              "gender              False\n",
              "SeniorCitizen       False\n",
              "Partner             False\n",
              "Dependents          False\n",
              "tenure              False\n",
              "PhoneService        False\n",
              "MultipleLines       False\n",
              "InternetService     False\n",
              "OnlineSecurity      False\n",
              "OnlineBackup        False\n",
              "DeviceProtection    False\n",
              "TechSupport         False\n",
              "StreamingTV         False\n",
              "StreamingMovies     False\n",
              "Contract            False\n",
              "PaperlessBilling    False\n",
              "PaymentMethod       False\n",
              "MonthlyCharges      False\n",
              "TotalCharges         True\n",
              "Churn               False\n",
              "dtype: bool"
            ]
          },
          "metadata": {},
          "execution_count": 67
        }
      ]
    },
    {
      "cell_type": "markdown",
      "source": [
        "**Observation**\n",
        "\n",
        "> There are null values in the TotalCharges column"
      ],
      "metadata": {
        "id": "ogVlAgHB_Jkw"
      }
    },
    {
      "cell_type": "code",
      "source": [
        "# Drop the rows with 11 missing data \n",
        "# Store in a new dataframe df1\n",
        "\n",
        "df1 = df[df['TotalCharges'].notna()]\n"
      ],
      "metadata": {
        "id": "tV856vMVLtRT"
      },
      "execution_count": 68,
      "outputs": []
    },
    {
      "cell_type": "code",
      "source": [
        "# Confirm to see if we have any null values after dropping\n",
        "\n",
        "sum(df1.isnull().values.ravel())"
      ],
      "metadata": {
        "colab": {
          "base_uri": "https://localhost:8080/"
        },
        "id": "7biwBCOQKRQv",
        "outputId": "290b0c5b-0613-4bb8-ea7d-d07d01421d14"
      },
      "execution_count": 69,
      "outputs": [
        {
          "output_type": "execute_result",
          "data": {
            "text/plain": [
              "0"
            ]
          },
          "metadata": {},
          "execution_count": 69
        }
      ]
    },
    {
      "cell_type": "markdown",
      "source": [
        "**Observation**\n",
        "\n",
        "> The output is zero; meaning there are no missing values"
      ],
      "metadata": {
        "id": "EGh6ZiUVMZXH"
      }
    },
    {
      "cell_type": "code",
      "source": [
        "# Get the ajusted statistical summary with the added TotalCharges column\n",
        "\n",
        "df1.describe()"
      ],
      "metadata": {
        "colab": {
          "base_uri": "https://localhost:8080/",
          "height": 300
        },
        "id": "Mli6Gw3eFM1n",
        "outputId": "5e3c63ba-5b9f-4070-9804-c389afdaba97"
      },
      "execution_count": 70,
      "outputs": [
        {
          "output_type": "execute_result",
          "data": {
            "text/plain": [
              "       SeniorCitizen       tenure  MonthlyCharges  TotalCharges\n",
              "count    7032.000000  7032.000000     7032.000000   7032.000000\n",
              "mean        0.162400    32.421786       64.798208   2283.300441\n",
              "std         0.368844    24.545260       30.085974   2266.771362\n",
              "min         0.000000     1.000000       18.250000     18.800000\n",
              "25%         0.000000     9.000000       35.587500    401.450000\n",
              "50%         0.000000    29.000000       70.350000   1397.475000\n",
              "75%         0.000000    55.000000       89.862500   3794.737500\n",
              "max         1.000000    72.000000      118.750000   8684.800000"
            ],
            "text/html": [
              "\n",
              "  <div id=\"df-7ad28c33-0b65-4b4b-bcf6-2dc6f5b28cea\">\n",
              "    <div class=\"colab-df-container\">\n",
              "      <div>\n",
              "<style scoped>\n",
              "    .dataframe tbody tr th:only-of-type {\n",
              "        vertical-align: middle;\n",
              "    }\n",
              "\n",
              "    .dataframe tbody tr th {\n",
              "        vertical-align: top;\n",
              "    }\n",
              "\n",
              "    .dataframe thead th {\n",
              "        text-align: right;\n",
              "    }\n",
              "</style>\n",
              "<table border=\"1\" class=\"dataframe\">\n",
              "  <thead>\n",
              "    <tr style=\"text-align: right;\">\n",
              "      <th></th>\n",
              "      <th>SeniorCitizen</th>\n",
              "      <th>tenure</th>\n",
              "      <th>MonthlyCharges</th>\n",
              "      <th>TotalCharges</th>\n",
              "    </tr>\n",
              "  </thead>\n",
              "  <tbody>\n",
              "    <tr>\n",
              "      <th>count</th>\n",
              "      <td>7032.000000</td>\n",
              "      <td>7032.000000</td>\n",
              "      <td>7032.000000</td>\n",
              "      <td>7032.000000</td>\n",
              "    </tr>\n",
              "    <tr>\n",
              "      <th>mean</th>\n",
              "      <td>0.162400</td>\n",
              "      <td>32.421786</td>\n",
              "      <td>64.798208</td>\n",
              "      <td>2283.300441</td>\n",
              "    </tr>\n",
              "    <tr>\n",
              "      <th>std</th>\n",
              "      <td>0.368844</td>\n",
              "      <td>24.545260</td>\n",
              "      <td>30.085974</td>\n",
              "      <td>2266.771362</td>\n",
              "    </tr>\n",
              "    <tr>\n",
              "      <th>min</th>\n",
              "      <td>0.000000</td>\n",
              "      <td>1.000000</td>\n",
              "      <td>18.250000</td>\n",
              "      <td>18.800000</td>\n",
              "    </tr>\n",
              "    <tr>\n",
              "      <th>25%</th>\n",
              "      <td>0.000000</td>\n",
              "      <td>9.000000</td>\n",
              "      <td>35.587500</td>\n",
              "      <td>401.450000</td>\n",
              "    </tr>\n",
              "    <tr>\n",
              "      <th>50%</th>\n",
              "      <td>0.000000</td>\n",
              "      <td>29.000000</td>\n",
              "      <td>70.350000</td>\n",
              "      <td>1397.475000</td>\n",
              "    </tr>\n",
              "    <tr>\n",
              "      <th>75%</th>\n",
              "      <td>0.000000</td>\n",
              "      <td>55.000000</td>\n",
              "      <td>89.862500</td>\n",
              "      <td>3794.737500</td>\n",
              "    </tr>\n",
              "    <tr>\n",
              "      <th>max</th>\n",
              "      <td>1.000000</td>\n",
              "      <td>72.000000</td>\n",
              "      <td>118.750000</td>\n",
              "      <td>8684.800000</td>\n",
              "    </tr>\n",
              "  </tbody>\n",
              "</table>\n",
              "</div>\n",
              "      <button class=\"colab-df-convert\" onclick=\"convertToInteractive('df-7ad28c33-0b65-4b4b-bcf6-2dc6f5b28cea')\"\n",
              "              title=\"Convert this dataframe to an interactive table.\"\n",
              "              style=\"display:none;\">\n",
              "        \n",
              "  <svg xmlns=\"http://www.w3.org/2000/svg\" height=\"24px\"viewBox=\"0 0 24 24\"\n",
              "       width=\"24px\">\n",
              "    <path d=\"M0 0h24v24H0V0z\" fill=\"none\"/>\n",
              "    <path d=\"M18.56 5.44l.94 2.06.94-2.06 2.06-.94-2.06-.94-.94-2.06-.94 2.06-2.06.94zm-11 1L8.5 8.5l.94-2.06 2.06-.94-2.06-.94L8.5 2.5l-.94 2.06-2.06.94zm10 10l.94 2.06.94-2.06 2.06-.94-2.06-.94-.94-2.06-.94 2.06-2.06.94z\"/><path d=\"M17.41 7.96l-1.37-1.37c-.4-.4-.92-.59-1.43-.59-.52 0-1.04.2-1.43.59L10.3 9.45l-7.72 7.72c-.78.78-.78 2.05 0 2.83L4 21.41c.39.39.9.59 1.41.59.51 0 1.02-.2 1.41-.59l7.78-7.78 2.81-2.81c.8-.78.8-2.07 0-2.86zM5.41 20L4 18.59l7.72-7.72 1.47 1.35L5.41 20z\"/>\n",
              "  </svg>\n",
              "      </button>\n",
              "      \n",
              "  <style>\n",
              "    .colab-df-container {\n",
              "      display:flex;\n",
              "      flex-wrap:wrap;\n",
              "      gap: 12px;\n",
              "    }\n",
              "\n",
              "    .colab-df-convert {\n",
              "      background-color: #E8F0FE;\n",
              "      border: none;\n",
              "      border-radius: 50%;\n",
              "      cursor: pointer;\n",
              "      display: none;\n",
              "      fill: #1967D2;\n",
              "      height: 32px;\n",
              "      padding: 0 0 0 0;\n",
              "      width: 32px;\n",
              "    }\n",
              "\n",
              "    .colab-df-convert:hover {\n",
              "      background-color: #E2EBFA;\n",
              "      box-shadow: 0px 1px 2px rgba(60, 64, 67, 0.3), 0px 1px 3px 1px rgba(60, 64, 67, 0.15);\n",
              "      fill: #174EA6;\n",
              "    }\n",
              "\n",
              "    [theme=dark] .colab-df-convert {\n",
              "      background-color: #3B4455;\n",
              "      fill: #D2E3FC;\n",
              "    }\n",
              "\n",
              "    [theme=dark] .colab-df-convert:hover {\n",
              "      background-color: #434B5C;\n",
              "      box-shadow: 0px 1px 3px 1px rgba(0, 0, 0, 0.15);\n",
              "      filter: drop-shadow(0px 1px 2px rgba(0, 0, 0, 0.3));\n",
              "      fill: #FFFFFF;\n",
              "    }\n",
              "  </style>\n",
              "\n",
              "      <script>\n",
              "        const buttonEl =\n",
              "          document.querySelector('#df-7ad28c33-0b65-4b4b-bcf6-2dc6f5b28cea button.colab-df-convert');\n",
              "        buttonEl.style.display =\n",
              "          google.colab.kernel.accessAllowed ? 'block' : 'none';\n",
              "\n",
              "        async function convertToInteractive(key) {\n",
              "          const element = document.querySelector('#df-7ad28c33-0b65-4b4b-bcf6-2dc6f5b28cea');\n",
              "          const dataTable =\n",
              "            await google.colab.kernel.invokeFunction('convertToInteractive',\n",
              "                                                     [key], {});\n",
              "          if (!dataTable) return;\n",
              "\n",
              "          const docLinkHtml = 'Like what you see? Visit the ' +\n",
              "            '<a target=\"_blank\" href=https://colab.research.google.com/notebooks/data_table.ipynb>data table notebook</a>'\n",
              "            + ' to learn more about interactive tables.';\n",
              "          element.innerHTML = '';\n",
              "          dataTable['output_type'] = 'display_data';\n",
              "          await google.colab.output.renderOutput(dataTable, element);\n",
              "          const docLink = document.createElement('div');\n",
              "          docLink.innerHTML = docLinkHtml;\n",
              "          element.appendChild(docLink);\n",
              "        }\n",
              "      </script>\n",
              "    </div>\n",
              "  </div>\n",
              "  "
            ]
          },
          "metadata": {},
          "execution_count": 70
        }
      ]
    },
    {
      "cell_type": "code",
      "source": [
        "#Drop the unnecessary customerID column\n",
        "df1.drop(columns=['customerID'], axis=1, inplace=True)"
      ],
      "metadata": {
        "id": "9B04x9xTrVG_"
      },
      "execution_count": 71,
      "outputs": []
    },
    {
      "cell_type": "markdown",
      "source": [
        "**Observation**\n",
        "\n",
        "> We have dropped the customerID column which will be unnecessary in our analysis"
      ],
      "metadata": {
        "id": "uOjWEr8bGTba"
      }
    },
    {
      "cell_type": "code",
      "source": [
        "# Convert  the SeniorCitizen column into categorical var\n",
        "df1[\"SeniorCitizen\"]= df1[\"SeniorCitizen\"].map({0: \"No\", 1: \"Yes\"})\n",
        "df1.head()"
      ],
      "metadata": {
        "id": "D_M6MRpHSIuI",
        "colab": {
          "base_uri": "https://localhost:8080/",
          "height": 339
        },
        "outputId": "db2f11eb-fa03-406c-feb6-fad111b574df"
      },
      "execution_count": 72,
      "outputs": [
        {
          "output_type": "execute_result",
          "data": {
            "text/plain": [
              "   gender SeniorCitizen Partner Dependents  tenure PhoneService  \\\n",
              "0  Female            No     Yes         No       1           No   \n",
              "1    Male            No      No         No      34          Yes   \n",
              "2    Male            No      No         No       2          Yes   \n",
              "3    Male            No      No         No      45           No   \n",
              "4  Female            No      No         No       2          Yes   \n",
              "\n",
              "      MultipleLines InternetService OnlineSecurity OnlineBackup  \\\n",
              "0  No phone service             DSL             No          Yes   \n",
              "1                No             DSL            Yes           No   \n",
              "2                No             DSL            Yes          Yes   \n",
              "3  No phone service             DSL            Yes           No   \n",
              "4                No     Fiber optic             No           No   \n",
              "\n",
              "  DeviceProtection TechSupport StreamingTV StreamingMovies        Contract  \\\n",
              "0               No          No          No              No  Month-to-month   \n",
              "1              Yes          No          No              No        One year   \n",
              "2               No          No          No              No  Month-to-month   \n",
              "3              Yes         Yes          No              No        One year   \n",
              "4               No          No          No              No  Month-to-month   \n",
              "\n",
              "  PaperlessBilling              PaymentMethod  MonthlyCharges  TotalCharges  \\\n",
              "0              Yes           Electronic check           29.85         29.85   \n",
              "1               No               Mailed check           56.95       1889.50   \n",
              "2              Yes               Mailed check           53.85        108.15   \n",
              "3               No  Bank transfer (automatic)           42.30       1840.75   \n",
              "4              Yes           Electronic check           70.70        151.65   \n",
              "\n",
              "  Churn  \n",
              "0    No  \n",
              "1    No  \n",
              "2   Yes  \n",
              "3    No  \n",
              "4   Yes  "
            ],
            "text/html": [
              "\n",
              "  <div id=\"df-2233a82b-0a27-47a8-baab-e6f4bdfeecb1\">\n",
              "    <div class=\"colab-df-container\">\n",
              "      <div>\n",
              "<style scoped>\n",
              "    .dataframe tbody tr th:only-of-type {\n",
              "        vertical-align: middle;\n",
              "    }\n",
              "\n",
              "    .dataframe tbody tr th {\n",
              "        vertical-align: top;\n",
              "    }\n",
              "\n",
              "    .dataframe thead th {\n",
              "        text-align: right;\n",
              "    }\n",
              "</style>\n",
              "<table border=\"1\" class=\"dataframe\">\n",
              "  <thead>\n",
              "    <tr style=\"text-align: right;\">\n",
              "      <th></th>\n",
              "      <th>gender</th>\n",
              "      <th>SeniorCitizen</th>\n",
              "      <th>Partner</th>\n",
              "      <th>Dependents</th>\n",
              "      <th>tenure</th>\n",
              "      <th>PhoneService</th>\n",
              "      <th>MultipleLines</th>\n",
              "      <th>InternetService</th>\n",
              "      <th>OnlineSecurity</th>\n",
              "      <th>OnlineBackup</th>\n",
              "      <th>DeviceProtection</th>\n",
              "      <th>TechSupport</th>\n",
              "      <th>StreamingTV</th>\n",
              "      <th>StreamingMovies</th>\n",
              "      <th>Contract</th>\n",
              "      <th>PaperlessBilling</th>\n",
              "      <th>PaymentMethod</th>\n",
              "      <th>MonthlyCharges</th>\n",
              "      <th>TotalCharges</th>\n",
              "      <th>Churn</th>\n",
              "    </tr>\n",
              "  </thead>\n",
              "  <tbody>\n",
              "    <tr>\n",
              "      <th>0</th>\n",
              "      <td>Female</td>\n",
              "      <td>No</td>\n",
              "      <td>Yes</td>\n",
              "      <td>No</td>\n",
              "      <td>1</td>\n",
              "      <td>No</td>\n",
              "      <td>No phone service</td>\n",
              "      <td>DSL</td>\n",
              "      <td>No</td>\n",
              "      <td>Yes</td>\n",
              "      <td>No</td>\n",
              "      <td>No</td>\n",
              "      <td>No</td>\n",
              "      <td>No</td>\n",
              "      <td>Month-to-month</td>\n",
              "      <td>Yes</td>\n",
              "      <td>Electronic check</td>\n",
              "      <td>29.85</td>\n",
              "      <td>29.85</td>\n",
              "      <td>No</td>\n",
              "    </tr>\n",
              "    <tr>\n",
              "      <th>1</th>\n",
              "      <td>Male</td>\n",
              "      <td>No</td>\n",
              "      <td>No</td>\n",
              "      <td>No</td>\n",
              "      <td>34</td>\n",
              "      <td>Yes</td>\n",
              "      <td>No</td>\n",
              "      <td>DSL</td>\n",
              "      <td>Yes</td>\n",
              "      <td>No</td>\n",
              "      <td>Yes</td>\n",
              "      <td>No</td>\n",
              "      <td>No</td>\n",
              "      <td>No</td>\n",
              "      <td>One year</td>\n",
              "      <td>No</td>\n",
              "      <td>Mailed check</td>\n",
              "      <td>56.95</td>\n",
              "      <td>1889.50</td>\n",
              "      <td>No</td>\n",
              "    </tr>\n",
              "    <tr>\n",
              "      <th>2</th>\n",
              "      <td>Male</td>\n",
              "      <td>No</td>\n",
              "      <td>No</td>\n",
              "      <td>No</td>\n",
              "      <td>2</td>\n",
              "      <td>Yes</td>\n",
              "      <td>No</td>\n",
              "      <td>DSL</td>\n",
              "      <td>Yes</td>\n",
              "      <td>Yes</td>\n",
              "      <td>No</td>\n",
              "      <td>No</td>\n",
              "      <td>No</td>\n",
              "      <td>No</td>\n",
              "      <td>Month-to-month</td>\n",
              "      <td>Yes</td>\n",
              "      <td>Mailed check</td>\n",
              "      <td>53.85</td>\n",
              "      <td>108.15</td>\n",
              "      <td>Yes</td>\n",
              "    </tr>\n",
              "    <tr>\n",
              "      <th>3</th>\n",
              "      <td>Male</td>\n",
              "      <td>No</td>\n",
              "      <td>No</td>\n",
              "      <td>No</td>\n",
              "      <td>45</td>\n",
              "      <td>No</td>\n",
              "      <td>No phone service</td>\n",
              "      <td>DSL</td>\n",
              "      <td>Yes</td>\n",
              "      <td>No</td>\n",
              "      <td>Yes</td>\n",
              "      <td>Yes</td>\n",
              "      <td>No</td>\n",
              "      <td>No</td>\n",
              "      <td>One year</td>\n",
              "      <td>No</td>\n",
              "      <td>Bank transfer (automatic)</td>\n",
              "      <td>42.30</td>\n",
              "      <td>1840.75</td>\n",
              "      <td>No</td>\n",
              "    </tr>\n",
              "    <tr>\n",
              "      <th>4</th>\n",
              "      <td>Female</td>\n",
              "      <td>No</td>\n",
              "      <td>No</td>\n",
              "      <td>No</td>\n",
              "      <td>2</td>\n",
              "      <td>Yes</td>\n",
              "      <td>No</td>\n",
              "      <td>Fiber optic</td>\n",
              "      <td>No</td>\n",
              "      <td>No</td>\n",
              "      <td>No</td>\n",
              "      <td>No</td>\n",
              "      <td>No</td>\n",
              "      <td>No</td>\n",
              "      <td>Month-to-month</td>\n",
              "      <td>Yes</td>\n",
              "      <td>Electronic check</td>\n",
              "      <td>70.70</td>\n",
              "      <td>151.65</td>\n",
              "      <td>Yes</td>\n",
              "    </tr>\n",
              "  </tbody>\n",
              "</table>\n",
              "</div>\n",
              "      <button class=\"colab-df-convert\" onclick=\"convertToInteractive('df-2233a82b-0a27-47a8-baab-e6f4bdfeecb1')\"\n",
              "              title=\"Convert this dataframe to an interactive table.\"\n",
              "              style=\"display:none;\">\n",
              "        \n",
              "  <svg xmlns=\"http://www.w3.org/2000/svg\" height=\"24px\"viewBox=\"0 0 24 24\"\n",
              "       width=\"24px\">\n",
              "    <path d=\"M0 0h24v24H0V0z\" fill=\"none\"/>\n",
              "    <path d=\"M18.56 5.44l.94 2.06.94-2.06 2.06-.94-2.06-.94-.94-2.06-.94 2.06-2.06.94zm-11 1L8.5 8.5l.94-2.06 2.06-.94-2.06-.94L8.5 2.5l-.94 2.06-2.06.94zm10 10l.94 2.06.94-2.06 2.06-.94-2.06-.94-.94-2.06-.94 2.06-2.06.94z\"/><path d=\"M17.41 7.96l-1.37-1.37c-.4-.4-.92-.59-1.43-.59-.52 0-1.04.2-1.43.59L10.3 9.45l-7.72 7.72c-.78.78-.78 2.05 0 2.83L4 21.41c.39.39.9.59 1.41.59.51 0 1.02-.2 1.41-.59l7.78-7.78 2.81-2.81c.8-.78.8-2.07 0-2.86zM5.41 20L4 18.59l7.72-7.72 1.47 1.35L5.41 20z\"/>\n",
              "  </svg>\n",
              "      </button>\n",
              "      \n",
              "  <style>\n",
              "    .colab-df-container {\n",
              "      display:flex;\n",
              "      flex-wrap:wrap;\n",
              "      gap: 12px;\n",
              "    }\n",
              "\n",
              "    .colab-df-convert {\n",
              "      background-color: #E8F0FE;\n",
              "      border: none;\n",
              "      border-radius: 50%;\n",
              "      cursor: pointer;\n",
              "      display: none;\n",
              "      fill: #1967D2;\n",
              "      height: 32px;\n",
              "      padding: 0 0 0 0;\n",
              "      width: 32px;\n",
              "    }\n",
              "\n",
              "    .colab-df-convert:hover {\n",
              "      background-color: #E2EBFA;\n",
              "      box-shadow: 0px 1px 2px rgba(60, 64, 67, 0.3), 0px 1px 3px 1px rgba(60, 64, 67, 0.15);\n",
              "      fill: #174EA6;\n",
              "    }\n",
              "\n",
              "    [theme=dark] .colab-df-convert {\n",
              "      background-color: #3B4455;\n",
              "      fill: #D2E3FC;\n",
              "    }\n",
              "\n",
              "    [theme=dark] .colab-df-convert:hover {\n",
              "      background-color: #434B5C;\n",
              "      box-shadow: 0px 1px 3px 1px rgba(0, 0, 0, 0.15);\n",
              "      filter: drop-shadow(0px 1px 2px rgba(0, 0, 0, 0.3));\n",
              "      fill: #FFFFFF;\n",
              "    }\n",
              "  </style>\n",
              "\n",
              "      <script>\n",
              "        const buttonEl =\n",
              "          document.querySelector('#df-2233a82b-0a27-47a8-baab-e6f4bdfeecb1 button.colab-df-convert');\n",
              "        buttonEl.style.display =\n",
              "          google.colab.kernel.accessAllowed ? 'block' : 'none';\n",
              "\n",
              "        async function convertToInteractive(key) {\n",
              "          const element = document.querySelector('#df-2233a82b-0a27-47a8-baab-e6f4bdfeecb1');\n",
              "          const dataTable =\n",
              "            await google.colab.kernel.invokeFunction('convertToInteractive',\n",
              "                                                     [key], {});\n",
              "          if (!dataTable) return;\n",
              "\n",
              "          const docLinkHtml = 'Like what you see? Visit the ' +\n",
              "            '<a target=\"_blank\" href=https://colab.research.google.com/notebooks/data_table.ipynb>data table notebook</a>'\n",
              "            + ' to learn more about interactive tables.';\n",
              "          element.innerHTML = '';\n",
              "          dataTable['output_type'] = 'display_data';\n",
              "          await google.colab.output.renderOutput(dataTable, element);\n",
              "          const docLink = document.createElement('div');\n",
              "          docLink.innerHTML = docLinkHtml;\n",
              "          element.appendChild(docLink);\n",
              "        }\n",
              "      </script>\n",
              "    </div>\n",
              "  </div>\n",
              "  "
            ]
          },
          "metadata": {},
          "execution_count": 72
        }
      ]
    },
    {
      "cell_type": "markdown",
      "source": [
        "**Observation**\n",
        "\n",
        "> We have converted the numeric values of the Senior Citizen variable  into categorical\n",
        "\n",
        ">'No' represents 0 and 'Yes' represents 1\n",
        "\n"
      ],
      "metadata": {
        "id": "Zvha3wGJIfGW"
      }
    },
    {
      "cell_type": "markdown",
      "source": [
        "##**4. Exploratory Data Analysis**\n",
        "\n",
        "> EDA is used to investigate the dataset and summarize the key insights. It gives the basic understanding of the data, it's distribution, and relationship between variables. Grapghs and python functions are used to explore the data. There will be two type of analysis; univariate and bivariate analysis"
      ],
      "metadata": {
        "id": "ngHR0NnuHQwq"
      }
    },
    {
      "cell_type": "markdown",
      "source": [
        "### 4.1 Univariate Analysis"
      ],
      "metadata": {
        "id": "qAoTLBsg6nqV"
      }
    },
    {
      "cell_type": "code",
      "source": [
        "# Ratio of our target variable\n",
        "df1['Churn'].value_counts()/len(df1['Churn'])*100"
      ],
      "metadata": {
        "colab": {
          "base_uri": "https://localhost:8080/"
        },
        "id": "O1pYfknZeDqx",
        "outputId": "2e262e10-c90a-4b87-b5b1-da625b488b17"
      },
      "execution_count": 73,
      "outputs": [
        {
          "output_type": "execute_result",
          "data": {
            "text/plain": [
              "No     73.421502\n",
              "Yes    26.578498\n",
              "Name: Churn, dtype: float64"
            ]
          },
          "metadata": {},
          "execution_count": 73
        }
      ]
    },
    {
      "cell_type": "markdown",
      "source": [
        "**Observation**\n",
        "\n",
        "> Our data is higly imbalanced; the ratio is 73:27\n",
        "\n",
        "> The churners are 27% while the non-churners are 73%"
      ],
      "metadata": {
        "id": "aJFXNZUKeh8m"
      }
    },
    {
      "cell_type": "code",
      "source": [
        "# Horizontal bar of our target variable\n",
        "\n",
        "df1['Churn'].value_counts().plot(kind='bar', figsize=(15,6), color='b')\n",
        "plt.xlabel('Count', fontsize= 15)\n",
        "plt.ylabel('Churn')\n",
        "plt.xticks(rotation = 45)\n",
        "plt.title('Count of churn per category', fontsize = 18);"
      ],
      "metadata": {
        "colab": {
          "base_uri": "https://localhost:8080/",
          "height": 422
        },
        "id": "cJ5HQPatewHk",
        "outputId": "b9bbc6fa-0aa3-4af4-9c5c-b06b0fadb9c3"
      },
      "execution_count": 74,
      "outputs": [
        {
          "output_type": "display_data",
          "data": {
            "text/plain": [
              "<Figure size 1080x432 with 1 Axes>"
            ],
            "image/png": "[encoded data removed]"
          },
          "metadata": {
            "needs_background": "light"
          }
        }
      ]
    },
    {
      "cell_type": "markdown",
      "source": [
        "**Observation**\n",
        "\n",
        "> There is imbalance in our target variable \n",
        "\n",
        "\n",
        "> The numbers of customers who churn is low as compared to those who don't churn"
      ],
      "metadata": {
        "id": "X5BzxmyjLxZu"
      }
    },
    {
      "cell_type": "code",
      "source": [
        "# Check for outliers using boxplot\n",
        "\n",
        "fig, ax = plt.subplots(1,3, figsize=(20,8))\n",
        "fig.suptitle('Boxplots')\n",
        "sns.boxplot(data=df1, y = 'TotalCharges', ax=ax[0])\n",
        "ax[0].set_title('Boxplot of TotalCharges')\n",
        "sns.boxplot(data=df1, y = 'MonthlyCharges', ax=ax[1], color = 'green')\n",
        "ax[1].set_title('Box Plot of MonthlyCharges')\n",
        "sns.boxplot(data=df1, y = 'tenure', ax=ax[2], color = 'yellow')\n",
        "ax[2].set_title('Box Plot of tenure');"
      ],
      "metadata": {
        "colab": {
          "base_uri": "https://localhost:8080/",
          "height": 528
        },
        "id": "67cuprUDJQnl",
        "outputId": "ab7460c1-7a12-47c0-b9e9-33f8aa877893"
      },
      "execution_count": 75,
      "outputs": [
        {
          "output_type": "display_data",
          "data": {
            "text/plain": [
              "<Figure size 1440x576 with 3 Axes>"
            ],
            "image/png": "[encoded data removed]"
          },
          "metadata": {
            "needs_background": "light"
          }
        }
      ]
    },
    {
      "cell_type": "markdown",
      "source": [
        "**Observation**\n",
        "\n",
        "> There are no outliers in the TotalCharges, MonthlyCharges and tenure columns\n",
        "\n",
        "> "
      ],
      "metadata": {
        "id": "dxK6vOVMS91J"
      }
    },
    {
      "cell_type": "code",
      "source": [
        "# TotalCharges distribution plot\n",
        "plt.figure(figsize=(18,7))\n",
        "plt.title(\"Distribution of TotalCharges\", fontsize = 20)\n",
        "plt.xlabel('TotalCharges', fontsize = 17)\n",
        "ax = sns.distplot(df1[\"TotalCharges\"], color = 'b')\n",
        "plt.show()"
      ],
      "metadata": {
        "colab": {
          "base_uri": "https://localhost:8080/",
          "height": 473
        },
        "id": "xffAt0X-IU68",
        "outputId": "98fae326-a147-4841-a82f-549d4e7e877a"
      },
      "execution_count": 76,
      "outputs": [
        {
          "output_type": "display_data",
          "data": {
            "text/plain": [
              "<Figure size 1296x504 with 1 Axes>"
            ],
            "image/png": "[encoded data removed]"
          },
          "metadata": {
            "needs_background": "light"
          }
        }
      ]
    },
    {
      "cell_type": "markdown",
      "source": [
        "**Observation**\n",
        "\n",
        "> Majority of the customers were charged between 0-2000\n",
        "\n",
        "> The distribution shows skeweness to the right(positive skewed)"
      ],
      "metadata": {
        "id": "KFLKh5rJI7p0"
      }
    },
    {
      "cell_type": "code",
      "source": [
        "# MonthlyCharges distribution plot\n",
        "\n",
        "plt.figure(figsize=(18,7))\n",
        "plt.title(\"Distribution of MonthlyCharges\", fontsize = 20)\n",
        "plt.xlabel('MonthlyCharges', fontsize = 17)\n",
        "ax = sns.distplot(df1[\"MonthlyCharges\"], color = 'b')\n",
        "plt.show()"
      ],
      "metadata": {
        "colab": {
          "base_uri": "https://localhost:8080/",
          "height": 473
        },
        "id": "7eGPQzVmJ4Bm",
        "outputId": "7166011c-0fe5-41ce-e476-3d6b09c7cdc1"
      },
      "execution_count": 77,
      "outputs": [
        {
          "output_type": "display_data",
          "data": {
            "text/plain": [
              "<Figure size 1296x504 with 1 Axes>"
            ],
            "image/png": "[encoded data removed]"
          },
          "metadata": {
            "needs_background": "light"
          }
        }
      ]
    },
    {
      "cell_type": "markdown",
      "source": [
        "**Observation**\n",
        " \n",
        "\n",
        "*   The Monthly charges lie towards high values showing a positive skew in the variable.\n",
        "*   Most customers pay a monthly charge of between 18 and 30.\n",
        "\n"
      ],
      "metadata": {
        "id": "v_b6hccGNoA9"
      }
    },
    {
      "cell_type": "code",
      "source": [
        "# Check the frequency of SeniorCitizens\n",
        "df1['SeniorCitizen'].value_counts()"
      ],
      "metadata": {
        "colab": {
          "base_uri": "https://localhost:8080/"
        },
        "id": "43NCEnQReKSk",
        "outputId": "7a0a1b2c-92cc-4002-9552-20ed4988e2b4"
      },
      "execution_count": 79,
      "outputs": [
        {
          "output_type": "execute_result",
          "data": {
            "text/plain": [
              "No     5890\n",
              "Yes    1142\n",
              "Name: SeniorCitizen, dtype: int64"
            ]
          },
          "metadata": {},
          "execution_count": 79
        }
      ]
    },
    {
      "cell_type": "markdown",
      "source": [
        "**Observation**\n",
        "\n",
        "> Majority of the customers are young."
      ],
      "metadata": {
        "id": "hp2XUNItes7b"
      }
    },
    {
      "cell_type": "code",
      "source": [
        "# Pie chart showing the various payment methods\n",
        "plt.figure(figsize=(20,10))\n",
        "colors = ['red', 'orange', 'pink', 'maroon']\n",
        "Explode=[0.15,0,0,0]\n",
        "df1['PaymentMethod'].value_counts().plot.pie(colors=colors, explode=Explode, autopct='%1.1f%%', shadow=True,textprops={'fontsize': 18})\n",
        "plt.title('Payment Methods', fontsize=20);"
      ],
      "metadata": {
        "colab": {
          "base_uri": "https://localhost:8080/",
          "height": 596
        },
        "id": "cwVRDgdDPIDI",
        "outputId": "89e64052-b621-40ab-8222-34f03e343c36"
      },
      "execution_count": 80,
      "outputs": [
        {
          "output_type": "display_data",
          "data": {
            "text/plain": [
              "<Figure size 1440x720 with 1 Axes>"
            ],
            "image/png": "[encoded data removed]"
          },
          "metadata": {}
        }
      ]
    },
    {
      "cell_type": "markdown",
      "source": [
        "**Observation**\n",
        "\n",
        "> 33.6% of the customers use electronic check for payments \n",
        "\n",
        "\n",
        "> 22.8% of the customers use mailed checks\n",
        "\n",
        "> 21.9% and 21.6% of the customers use bank transfers and credit cards respectively "
      ],
      "metadata": {
        "id": "yzoaAFgBRhJq"
      }
    },
    {
      "cell_type": "code",
      "source": [
        "# Divide the customers into bins of 12 months based on tenure\n",
        "# That is, < 12 months; 1 year: 13-24 months; 1-2 years etc\n",
        "\n",
        "# Let's print the max tenure in our data\n",
        "\n",
        "#print(df1['tenure'].max())"
      ],
      "metadata": {
        "id": "ZgXkNGEshMLW"
      },
      "execution_count": 81,
      "outputs": []
    },
    {
      "cell_type": "markdown",
      "source": [
        "**Observation**\n",
        "\n",
        "> We have a maximum of 72 months"
      ],
      "metadata": {
        "id": "rHjDAvQ6lXra"
      }
    },
    {
      "cell_type": "markdown",
      "source": [
        "### 4.2 Bivariate Analysis"
      ],
      "metadata": {
        "id": "0aMBupFaO5c1"
      }
    },
    {
      "cell_type": "code",
      "source": [
        "# A for loop for all independent variables against the target(Churn)\n",
        "\n",
        "for i, variables in enumerate(df1.drop(columns=['Churn','TotalCharges','MonthlyCharges', 'tenure'])):\n",
        "  plt.figure(figsize=(10,8))\n",
        "  plt.figure(i)\n",
        "  sns.countplot(data=df1, x=variables, hue='Churn')"
      ],
      "metadata": {
        "colab": {
          "base_uri": "https://localhost:8080/",
          "height": 1000
        },
        "id": "tiFp92pxt9Mg",
        "outputId": "74d5af9c-dc0b-40b2-b82d-7f99265c9e67"
      },
      "execution_count": 82,
      "outputs": [
        {
          "output_type": "display_data",
          "data": {
            "text/plain": [
              "<Figure size 720x576 with 1 Axes>"
            ],
            "image/png": "[encoded data removed]"
          },
          "metadata": {
            "needs_background": "light"
          }
        },
        {
          "output_type": "display_data",
          "data": {
            "text/plain": [
              "<Figure size 432x288 with 1 Axes>"
            ],
            "image/png": "[encoded data removed]"
          },
          "metadata": {
            "needs_background": "light"
          }
        },
        {
          "output_type": "display_data",
          "data": {
            "text/plain": [
              "<Figure size 720x576 with 1 Axes>"
            ],
            "image/png": "[encoded data removed]"
          },
          "metadata": {
            "needs_background": "light"
          }
        },
        {
          "output_type": "display_data",
          "data": {
            "text/plain": [
              "<Figure size 720x576 with 1 Axes>"
            ],
            "image/png": "[encoded data removed]"
          },
          "metadata": {
            "needs_background": "light"
          }
        },
        {
          "output_type": "display_data",
          "data": {
            "text/plain": [
              "<Figure size 720x576 with 1 Axes>"
            ],
            "image/png": "[encoded data removed]"
          },
          "metadata": {
            "needs_background": "light"
          }
        },
        {
          "output_type": "display_data",
          "data": {
            "text/plain": [
              "<Figure size 720x576 with 1 Axes>"
            ],
            "image/png": "[encoded data removed]"
          },
          "metadata": {
            "needs_background": "light"
          }
        },
        {
          "output_type": "display_data",
          "data": {
            "text/plain": [
              "<Figure size 720x576 with 1 Axes>"
            ],
            "image/png": "[encoded data removed]"
          },
          "metadata": {
            "needs_background": "light"
          }
        },
        {
          "output_type": "display_data",
          "data": {
            "text/plain": [
              "<Figure size 720x576 with 1 Axes>"
            ],
            "image/png": "[encoded data removed]"
          },
          "metadata": {
            "needs_background": "light"
          }
        },
        {
          "output_type": "display_data",
          "data": {
            "text/plain": [
              "<Figure size 720x576 with 1 Axes>"
            ],
            "image/png": "[encoded data removed]"
          },
          "metadata": {
            "needs_background": "light"
          }
        },
        {
          "output_type": "display_data",
          "data": {
            "text/plain": [
              "<Figure size 720x576 with 1 Axes>"
            ],
            "image/png": "[encoded data removed]"
          },
          "metadata": {
            "needs_background": "light"
          }
        },
        {
          "output_type": "display_data",
          "data": {
            "text/plain": [
              "<Figure size 720x576 with 1 Axes>"
            ],
            "image/png": "[encoded data removed]"
          },
          "metadata": {
            "needs_background": "light"
          }
        },
        {
          "output_type": "display_data",
          "data": {
            "text/plain": [
              "<Figure size 720x576 with 1 Axes>"
            ],
            "image/png": "[encoded data removed]"
          },
          "metadata": {
            "needs_background": "light"
          }
        },
        {
          "output_type": "display_data",
          "data": {
            "text/plain": [
              "<Figure size 720x576 with 1 Axes>"
            ],
            "image/png": "[encoded data removed]"
          },
          "metadata": {
            "needs_background": "light"
          }
        },
        {
          "output_type": "display_data",
          "data": {
            "text/plain": [
              "<Figure size 720x576 with 1 Axes>"
            ],
            "image/png": "[encoded data removed]"
          },
          "metadata": {
            "needs_background": "light"
          }
        },
        {
          "output_type": "display_data",
          "data": {
            "text/plain": [
              "<Figure size 720x576 with 1 Axes>"
            ],
            "image/png": "[encoded data removed]"
          },
          "metadata": {
            "needs_background": "light"
          }
        },
        {
          "output_type": "display_data",
          "data": {
            "text/plain": [
              "<Figure size 720x576 with 1 Axes>"
            ],
            "image/png": "[encoded data removed]"
          },
          "metadata": {
            "needs_background": "light"
          }
        },
        {
          "output_type": "display_data",
          "data": {
            "text/plain": [
              "<Figure size 720x576 with 0 Axes>"
            ]
          },
          "metadata": {}
        }
      ]
    },
    {
      "cell_type": "markdown",
      "source": [
        "**Observation**\n",
        "\n",
        "\n",
        "\n",
        "*   The churn rate is low in senior citizens.\n",
        "*   The churn rate of both male and female is the same; gender has not effect on churn rate\n",
        "\n",
        "\n",
        "*   Churn rate among those who have no partners is higher compared to those with partners.\n",
        "*   Those who have no dependents are likely to churn services as compared to those with dependents.\n",
        "\n",
        "\n",
        "*   Customers subscribed to phone services are more likely to churn as compared to those who are not subscribed.\n",
        "*   The churn rate is not affected by the number of lines owned by a customer.\n",
        "\n",
        "\n",
        "* Churn rate is high in customers who use Fibre Optic compared to those who use DSLand those without any internet service.\n",
        "*  Customers having no online security tend to have a higher churn rate.\n",
        "\n",
        "\n",
        "*   Customers without online backup services are likely to churn.\n",
        "*  Customers without device protection are likely to churn.\n",
        "\n",
        "\n",
        "*   Customers are likely to churn where there is no Tech Support.\n",
        "*   Customers with monthly subscription tend to churn more as compared those with 1-2 year contract.\n",
        "\n",
        "\n",
        "*  Customers who use paperless billing tend to churn more than those using paper billing. \n",
        "*   Churn rate among those customers using Electronic checks as a payment method is higher.\n",
        "\n",
        "\n",
        "\n",
        "\n",
        "\n",
        "\n",
        "\n",
        "\n",
        "\n",
        "\n",
        "\n",
        "\n",
        "\n"
      ],
      "metadata": {
        "id": "jT_W3LVCfUfu"
      }
    },
    {
      "cell_type": "code",
      "source": [
        "#visualizing the MonthlyCharges variable against churn\n",
        "sns.set_context(\"paper\",font_scale=1.1)\n",
        "ax = sns.kdeplot(df1.MonthlyCharges[(df1[\"Churn\"] == 'No') ],\n",
        "                color=\"green\", shade = True);\n",
        "ax = sns.kdeplot(df1.MonthlyCharges[(df1[\"Churn\"] == 'Yes') ],\n",
        "                ax =ax, color=\"red\", shade= True);\n",
        "ax.legend([\"Not Churn\",\"Churn\"],loc='upper right');\n",
        "ax.set_ylabel('Density');\n",
        "ax.set_xlabel('Monthly Charges');\n",
        "ax.set_title('Distribution of monthly charges by churn');"
      ],
      "metadata": {
        "colab": {
          "base_uri": "https://localhost:8080/",
          "height": 295
        },
        "id": "PCzerXZziMg3",
        "outputId": "e341e165-d3bc-48ae-dad3-35d305a96f09"
      },
      "execution_count": 83,
      "outputs": [
        {
          "output_type": "display_data",
          "data": {
            "text/plain": [
              "<Figure size 432x288 with 1 Axes>"
            ],
            "image/png": "[encoded data removed]"
          },
          "metadata": {
            "needs_background": "light"
          }
        }
      ]
    },
    {
      "cell_type": "markdown",
      "source": [
        "**Observation**\n",
        "* Customers with higher Monthly Charges are also more likely to churn"
      ],
      "metadata": {
        "id": "78WISlddihuu"
      }
    },
    {
      "cell_type": "code",
      "source": [
        "#plotting the heatmap for correlation\n",
        "plt.figure(figsize=(15,8))\n",
        "plt.title('A Correlation Matrix For Numeric Variables', fontsize=19)\n",
        "ax = sns.heatmap(df1.corr(), annot=True)"
      ],
      "metadata": {
        "colab": {
          "base_uri": "https://localhost:8080/",
          "height": 505
        },
        "id": "RgOHIY53YI6m",
        "outputId": "2be27133-bd5d-479d-cf1b-8e3d4606a2f1"
      },
      "execution_count": 84,
      "outputs": [
        {
          "output_type": "display_data",
          "data": {
            "text/plain": [
              "<Figure size 1080x576 with 2 Axes>"
            ],
            "image/png": "[encoded data removed]"
          },
          "metadata": {
            "needs_background": "light"
          }
        }
      ]
    },
    {
      "cell_type": "markdown",
      "source": [
        "**Observations**\n",
        "\n",
        "\n",
        "*   There is a strong positive correlation between Total Charges and Tenure.The longer a customer stays the more they pay.\n",
        "*   There is a weak positive correlation between tenure and Monthly charges.\n",
        "\n",
        "\n",
        "\n",
        "\n",
        "\n",
        "\n"
      ],
      "metadata": {
        "id": "ap2hdH4ZepL9"
      }
    },
    {
      "cell_type": "markdown",
      "source": [
        "\n",
        "##**5. Implementing The Solution**\n",
        "\n",
        "> Modeling in this phase will include selecting a deep learning technique;designing the test; building the model and assessing model"
      ],
      "metadata": {
        "id": "L2uzMFDmf4Lr"
      }
    },
    {
      "cell_type": "markdown",
      "source": [
        "### 5.1 Data Pre-Processing"
      ],
      "metadata": {
        "id": "RmraPd13kiTK"
      }
    },
    {
      "cell_type": "code",
      "source": [
        "#encoding\n",
        "from sklearn.preprocessing import LabelEncoder#importing label encoder library\n",
        "#creating a function to label encode the categorical variables\n",
        "def object_to_int(dataframe_series):\n",
        "    if dataframe_series.dtype=='object':\n",
        "        dataframe_series = LabelEncoder().fit_transform(dataframe_series)\n",
        "    return dataframe_series"
      ],
      "metadata": {
        "id": "-0XeAp2Gknms"
      },
      "execution_count": 85,
      "outputs": []
    },
    {
      "cell_type": "code",
      "source": [
        "#creating a new dataframe of numerical variables\n",
        "df2 = df1.apply(lambda x: object_to_int(x))\n",
        "df2.head()\n",
        "\n"
      ],
      "metadata": {
        "colab": {
          "base_uri": "https://localhost:8080/",
          "height": 270
        },
        "id": "EGS2_yUJltas",
        "outputId": "28477f25-a2be-49ed-f7c6-8d3c3e4fff54"
      },
      "execution_count": 86,
      "outputs": [
        {
          "output_type": "execute_result",
          "data": {
            "text/plain": [
              "   gender  SeniorCitizen  Partner  Dependents  tenure  PhoneService  \\\n",
              "0       0              0        1           0       1             0   \n",
              "1       1              0        0           0      34             1   \n",
              "2       1              0        0           0       2             1   \n",
              "3       1              0        0           0      45             0   \n",
              "4       0              0        0           0       2             1   \n",
              "\n",
              "   MultipleLines  InternetService  OnlineSecurity  OnlineBackup  \\\n",
              "0              1                0               0             2   \n",
              "1              0                0               2             0   \n",
              "2              0                0               2             2   \n",
              "3              1                0               2             0   \n",
              "4              0                1               0             0   \n",
              "\n",
              "   DeviceProtection  TechSupport  StreamingTV  StreamingMovies  Contract  \\\n",
              "0                 0            0            0                0         0   \n",
              "1                 2            0            0                0         1   \n",
              "2                 0            0            0                0         0   \n",
              "3                 2            2            0                0         1   \n",
              "4                 0            0            0                0         0   \n",
              "\n",
              "   PaperlessBilling  PaymentMethod  MonthlyCharges  TotalCharges  Churn  \n",
              "0                 1              2           29.85         29.85      0  \n",
              "1                 0              3           56.95       1889.50      0  \n",
              "2                 1              3           53.85        108.15      1  \n",
              "3                 0              0           42.30       1840.75      0  \n",
              "4                 1              2           70.70        151.65      1  "
            ],
            "text/html": [
              "\n",
              "  <div id=\"df-dc44b475-7da4-45b9-91b0-582d13c26dfe\">\n",
              "    <div class=\"colab-df-container\">\n",
              "      <div>\n",
              "<style scoped>\n",
              "    .dataframe tbody tr th:only-of-type {\n",
              "        vertical-align: middle;\n",
              "    }\n",
              "\n",
              "    .dataframe tbody tr th {\n",
              "        vertical-align: top;\n",
              "    }\n",
              "\n",
              "    .dataframe thead th {\n",
              "        text-align: right;\n",
              "    }\n",
              "</style>\n",
              "<table border=\"1\" class=\"dataframe\">\n",
              "  <thead>\n",
              "    <tr style=\"text-align: right;\">\n",
              "      <th></th>\n",
              "      <th>gender</th>\n",
              "      <th>SeniorCitizen</th>\n",
              "      <th>Partner</th>\n",
              "      <th>Dependents</th>\n",
              "      <th>tenure</th>\n",
              "      <th>PhoneService</th>\n",
              "      <th>MultipleLines</th>\n",
              "      <th>InternetService</th>\n",
              "      <th>OnlineSecurity</th>\n",
              "      <th>OnlineBackup</th>\n",
              "      <th>DeviceProtection</th>\n",
              "      <th>TechSupport</th>\n",
              "      <th>StreamingTV</th>\n",
              "      <th>StreamingMovies</th>\n",
              "      <th>Contract</th>\n",
              "      <th>PaperlessBilling</th>\n",
              "      <th>PaymentMethod</th>\n",
              "      <th>MonthlyCharges</th>\n",
              "      <th>TotalCharges</th>\n",
              "      <th>Churn</th>\n",
              "    </tr>\n",
              "  </thead>\n",
              "  <tbody>\n",
              "    <tr>\n",
              "      <th>0</th>\n",
              "      <td>0</td>\n",
              "      <td>0</td>\n",
              "      <td>1</td>\n",
              "      <td>0</td>\n",
              "      <td>1</td>\n",
              "      <td>0</td>\n",
              "      <td>1</td>\n",
              "      <td>0</td>\n",
              "      <td>0</td>\n",
              "      <td>2</td>\n",
              "      <td>0</td>\n",
              "      <td>0</td>\n",
              "      <td>0</td>\n",
              "      <td>0</td>\n",
              "      <td>0</td>\n",
              "      <td>1</td>\n",
              "      <td>2</td>\n",
              "      <td>29.85</td>\n",
              "      <td>29.85</td>\n",
              "      <td>0</td>\n",
              "    </tr>\n",
              "    <tr>\n",
              "      <th>1</th>\n",
              "      <td>1</td>\n",
              "      <td>0</td>\n",
              "      <td>0</td>\n",
              "      <td>0</td>\n",
              "      <td>34</td>\n",
              "      <td>1</td>\n",
              "      <td>0</td>\n",
              "      <td>0</td>\n",
              "      <td>2</td>\n",
              "      <td>0</td>\n",
              "      <td>2</td>\n",
              "      <td>0</td>\n",
              "      <td>0</td>\n",
              "      <td>0</td>\n",
              "      <td>1</td>\n",
              "      <td>0</td>\n",
              "      <td>3</td>\n",
              "      <td>56.95</td>\n",
              "      <td>1889.50</td>\n",
              "      <td>0</td>\n",
              "    </tr>\n",
              "    <tr>\n",
              "      <th>2</th>\n",
              "      <td>1</td>\n",
              "      <td>0</td>\n",
              "      <td>0</td>\n",
              "      <td>0</td>\n",
              "      <td>2</td>\n",
              "      <td>1</td>\n",
              "      <td>0</td>\n",
              "      <td>0</td>\n",
              "      <td>2</td>\n",
              "      <td>2</td>\n",
              "      <td>0</td>\n",
              "      <td>0</td>\n",
              "      <td>0</td>\n",
              "      <td>0</td>\n",
              "      <td>0</td>\n",
              "      <td>1</td>\n",
              "      <td>3</td>\n",
              "      <td>53.85</td>\n",
              "      <td>108.15</td>\n",
              "      <td>1</td>\n",
              "    </tr>\n",
              "    <tr>\n",
              "      <th>3</th>\n",
              "      <td>1</td>\n",
              "      <td>0</td>\n",
              "      <td>0</td>\n",
              "      <td>0</td>\n",
              "      <td>45</td>\n",
              "      <td>0</td>\n",
              "      <td>1</td>\n",
              "      <td>0</td>\n",
              "      <td>2</td>\n",
              "      <td>0</td>\n",
              "      <td>2</td>\n",
              "      <td>2</td>\n",
              "      <td>0</td>\n",
              "      <td>0</td>\n",
              "      <td>1</td>\n",
              "      <td>0</td>\n",
              "      <td>0</td>\n",
              "      <td>42.30</td>\n",
              "      <td>1840.75</td>\n",
              "      <td>0</td>\n",
              "    </tr>\n",
              "    <tr>\n",
              "      <th>4</th>\n",
              "      <td>0</td>\n",
              "      <td>0</td>\n",
              "      <td>0</td>\n",
              "      <td>0</td>\n",
              "      <td>2</td>\n",
              "      <td>1</td>\n",
              "      <td>0</td>\n",
              "      <td>1</td>\n",
              "      <td>0</td>\n",
              "      <td>0</td>\n",
              "      <td>0</td>\n",
              "      <td>0</td>\n",
              "      <td>0</td>\n",
              "      <td>0</td>\n",
              "      <td>0</td>\n",
              "      <td>1</td>\n",
              "      <td>2</td>\n",
              "      <td>70.70</td>\n",
              "      <td>151.65</td>\n",
              "      <td>1</td>\n",
              "    </tr>\n",
              "  </tbody>\n",
              "</table>\n",
              "</div>\n",
              "      <button class=\"colab-df-convert\" onclick=\"convertToInteractive('df-dc44b475-7da4-45b9-91b0-582d13c26dfe')\"\n",
              "              title=\"Convert this dataframe to an interactive table.\"\n",
              "              style=\"display:none;\">\n",
              "        \n",
              "  <svg xmlns=\"http://www.w3.org/2000/svg\" height=\"24px\"viewBox=\"0 0 24 24\"\n",
              "       width=\"24px\">\n",
              "    <path d=\"M0 0h24v24H0V0z\" fill=\"none\"/>\n",
              "    <path d=\"M18.56 5.44l.94 2.06.94-2.06 2.06-.94-2.06-.94-.94-2.06-.94 2.06-2.06.94zm-11 1L8.5 8.5l.94-2.06 2.06-.94-2.06-.94L8.5 2.5l-.94 2.06-2.06.94zm10 10l.94 2.06.94-2.06 2.06-.94-2.06-.94-.94-2.06-.94 2.06-2.06.94z\"/><path d=\"M17.41 7.96l-1.37-1.37c-.4-.4-.92-.59-1.43-.59-.52 0-1.04.2-1.43.59L10.3 9.45l-7.72 7.72c-.78.78-.78 2.05 0 2.83L4 21.41c.39.39.9.59 1.41.59.51 0 1.02-.2 1.41-.59l7.78-7.78 2.81-2.81c.8-.78.8-2.07 0-2.86zM5.41 20L4 18.59l7.72-7.72 1.47 1.35L5.41 20z\"/>\n",
              "  </svg>\n",
              "      </button>\n",
              "      \n",
              "  <style>\n",
              "    .colab-df-container {\n",
              "      display:flex;\n",
              "      flex-wrap:wrap;\n",
              "      gap: 12px;\n",
              "    }\n",
              "\n",
              "    .colab-df-convert {\n",
              "      background-color: #E8F0FE;\n",
              "      border: none;\n",
              "      border-radius: 50%;\n",
              "      cursor: pointer;\n",
              "      display: none;\n",
              "      fill: #1967D2;\n",
              "      height: 32px;\n",
              "      padding: 0 0 0 0;\n",
              "      width: 32px;\n",
              "    }\n",
              "\n",
              "    .colab-df-convert:hover {\n",
              "      background-color: #E2EBFA;\n",
              "      box-shadow: 0px 1px 2px rgba(60, 64, 67, 0.3), 0px 1px 3px 1px rgba(60, 64, 67, 0.15);\n",
              "      fill: #174EA6;\n",
              "    }\n",
              "\n",
              "    [theme=dark] .colab-df-convert {\n",
              "      background-color: #3B4455;\n",
              "      fill: #D2E3FC;\n",
              "    }\n",
              "\n",
              "    [theme=dark] .colab-df-convert:hover {\n",
              "      background-color: #434B5C;\n",
              "      box-shadow: 0px 1px 3px 1px rgba(0, 0, 0, 0.15);\n",
              "      filter: drop-shadow(0px 1px 2px rgba(0, 0, 0, 0.3));\n",
              "      fill: #FFFFFF;\n",
              "    }\n",
              "  </style>\n",
              "\n",
              "      <script>\n",
              "        const buttonEl =\n",
              "          document.querySelector('#df-dc44b475-7da4-45b9-91b0-582d13c26dfe button.colab-df-convert');\n",
              "        buttonEl.style.display =\n",
              "          google.colab.kernel.accessAllowed ? 'block' : 'none';\n",
              "\n",
              "        async function convertToInteractive(key) {\n",
              "          const element = document.querySelector('#df-dc44b475-7da4-45b9-91b0-582d13c26dfe');\n",
              "          const dataTable =\n",
              "            await google.colab.kernel.invokeFunction('convertToInteractive',\n",
              "                                                     [key], {});\n",
              "          if (!dataTable) return;\n",
              "\n",
              "          const docLinkHtml = 'Like what you see? Visit the ' +\n",
              "            '<a target=\"_blank\" href=https://colab.research.google.com/notebooks/data_table.ipynb>data table notebook</a>'\n",
              "            + ' to learn more about interactive tables.';\n",
              "          element.innerHTML = '';\n",
              "          dataTable['output_type'] = 'display_data';\n",
              "          await google.colab.output.renderOutput(dataTable, element);\n",
              "          const docLink = document.createElement('div');\n",
              "          docLink.innerHTML = docLinkHtml;\n",
              "          element.appendChild(docLink);\n",
              "        }\n",
              "      </script>\n",
              "    </div>\n",
              "  </div>\n",
              "  "
            ]
          },
          "metadata": {},
          "execution_count": 86
        }
      ]
    },
    {
      "cell_type": "markdown",
      "source": [
        "**Observation**\n",
        "\n",
        "* We have transformed our previous dataframe into numeric variables"
      ],
      "metadata": {
        "id": "RBpeIM1EiOEf"
      }
    },
    {
      "cell_type": "markdown",
      "source": [
        "### 5.2 Modeling "
      ],
      "metadata": {
        "id": "KwJa0G5n7SGJ"
      }
    },
    {
      "cell_type": "code",
      "source": [
        "#importing the required libraries for creating neural networks\n",
        "import tensorflow as tf\n",
        "from keras.models import Sequential\n",
        "from keras.optimizers import SGD\n",
        "from tensorflow.python.keras.layers import Input, Dense"
      ],
      "metadata": {
        "id": "akAsYjBagYYh"
      },
      "execution_count": 150,
      "outputs": []
    },
    {
      "cell_type": "code",
      "source": [
        "#creating the x and y variables\n",
        "X=df2.drop(['Churn'],axis=1)\n",
        "y=df2['Churn']"
      ],
      "metadata": {
        "id": "uiH-A7HEIIAy"
      },
      "execution_count": 151,
      "outputs": []
    },
    {
      "cell_type": "markdown",
      "source": [
        "**Observation**\n",
        "\n",
        "* Split our dataset into X and y; y-churn and X are the other independent variables"
      ],
      "metadata": {
        "id": "xefNUpjijx0B"
      }
    },
    {
      "cell_type": "code",
      "source": [
        "# Define our model\n",
        "# Use sequential;a linear stack of layers\n",
        "\n",
        "model= Sequential()"
      ],
      "metadata": {
        "id": "GKmiQGFXN-6n"
      },
      "execution_count": 152,
      "outputs": []
    },
    {
      "cell_type": "code",
      "source": [
        "# Specify our input layer; to ensure it has the right number of inputs using the\n",
        "# input_dim argument \n",
        "\n",
        "input_dim=19\n"
      ],
      "metadata": {
        "id": "mBdibojXOPPU"
      },
      "execution_count": 153,
      "outputs": []
    },
    {
      "cell_type": "code",
      "source": [
        "# Specify the dense class with the fully connected layers\n",
        "\n",
        "model = Sequential()\n",
        "model.add(Dense(15, input_dim=19, activation='relu'))\n",
        "model.add(Dense(10, activation='relu'))\n",
        "model.add(Dense(1,activation='sigmoid'))                       "
      ],
      "metadata": {
        "id": "QSlrRx1LOsCK"
      },
      "execution_count": 160,
      "outputs": []
    },
    {
      "cell_type": "markdown",
      "source": [
        "**Observation**\n",
        "\n",
        "* We have created our sequential model and added hidden layers.\n",
        "* Used relu activation function in the hidden layers and sigmoid on the output\n",
        "* The model expects rows of data with 19 variables\n",
        "* The first hidden layer has 15 nodes; the second hidden  layer has 10 nodes and the output has just one node."
      ],
      "metadata": {
        "id": "4r79GjVfmJV-"
      }
    },
    {
      "cell_type": "code",
      "source": [
        "# Compile the model\n",
        "# Specify the loss function, optimizer\n",
        "#opt=SGD(lr=0.01, momentum=0.9)\n",
        "model.compile(loss='binary_crossentropy', optimizer='adam', metrics=['accuracy'])"
      ],
      "metadata": {
        "id": "Nm-lM6kkPpXR"
      },
      "execution_count": 155,
      "outputs": []
    },
    {
      "cell_type": "markdown",
      "source": [
        "**Observation**\n",
        "* We have specified some additional properties required for training the network.\n",
        "\n",
        "* We have specified the loss function (binary_crossentropy),the optimizer(adam) and the classification accuracy defined by the metrics argument."
      ],
      "metadata": {
        "id": "z59P_eUHnNnk"
      }
    },
    {
      "cell_type": "code",
      "source": [
        "# Fit the model\n",
        "model.fit(X, y, epochs=15, batch_size=10)"
      ],
      "metadata": {
        "colab": {
          "base_uri": "https://localhost:8080/"
        },
        "id": "t2OUG3NyO_YX",
        "outputId": "b0bd8243-c476-4d8a-e49b-3f35cef36641"
      },
      "execution_count": 157,
      "outputs": [
        {
          "output_type": "stream",
          "name": "stdout",
          "text": [
            "Epoch 1/15\n",
            "704/704 [==============================] - 2s 3ms/step - loss: 9.9307 - accuracy: 0.7160\n",
            "Epoch 2/15\n",
            "704/704 [==============================] - 2s 2ms/step - loss: 0.9648 - accuracy: 0.7561\n",
            "Epoch 3/15\n",
            "704/704 [==============================] - 2s 2ms/step - loss: 0.9307 - accuracy: 0.7564\n",
            "Epoch 4/15\n",
            "704/704 [==============================] - 2s 3ms/step - loss: 0.9826 - accuracy: 0.7561\n",
            "Epoch 5/15\n",
            "704/704 [==============================] - 2s 2ms/step - loss: 0.9136 - accuracy: 0.7577\n",
            "Epoch 6/15\n",
            "704/704 [==============================] - 2s 2ms/step - loss: 0.9637 - accuracy: 0.7548\n",
            "Epoch 7/15\n",
            "704/704 [==============================] - 2s 2ms/step - loss: 0.9171 - accuracy: 0.7582\n",
            "Epoch 8/15\n",
            "704/704 [==============================] - 2s 2ms/step - loss: 1.0702 - accuracy: 0.7575\n",
            "Epoch 9/15\n",
            "704/704 [==============================] - 2s 2ms/step - loss: 0.8877 - accuracy: 0.7592\n",
            "Epoch 10/15\n",
            "704/704 [==============================] - 2s 2ms/step - loss: 0.8080 - accuracy: 0.7607\n",
            "Epoch 11/15\n",
            "704/704 [==============================] - 2s 2ms/step - loss: 0.7824 - accuracy: 0.7685\n",
            "Epoch 12/15\n",
            "704/704 [==============================] - 2s 2ms/step - loss: 0.8288 - accuracy: 0.7592\n",
            "Epoch 13/15\n",
            "704/704 [==============================] - 2s 2ms/step - loss: 0.9798 - accuracy: 0.7491\n",
            "Epoch 14/15\n",
            "704/704 [==============================] - 2s 2ms/step - loss: 0.7210 - accuracy: 0.7669\n",
            "Epoch 15/15\n",
            "704/704 [==============================] - 2s 3ms/step - loss: 0.8026 - accuracy: 0.7591\n"
          ]
        },
        {
          "output_type": "execute_result",
          "data": {
            "text/plain": [
              "<keras.callbacks.History at 0x7f8b9f5d1a90>"
            ]
          },
          "metadata": {},
          "execution_count": 157
        }
      ]
    },
    {
      "cell_type": "markdown",
      "source": [
        "**Observation**\n",
        "* Now that we have defined and compliled our model to be ready for computaion, we are now ready to fit the model on the dataset.\n",
        "\n",
        "* Use the .fit() function to fit our dataset.\n",
        "\n",
        "* We have set our epoch to 15, and set our batches to 10 ie the number of samples considered by our model within an epoch before weights are updated."
      ],
      "metadata": {
        "id": "fEaAU_b-n7Ns"
      }
    },
    {
      "cell_type": "code",
      "source": [
        "\n",
        "# Evaluate performance of the model on the dataset using evaluate function.\n",
        "\n",
        "accuracy = model.evaluate(X, y)\n",
        "\n",
        "#print(accuracy)\n",
        "print(\"%s: %.2f%%\" % (model.metrics_names[1], accuracy[1]*100))"
      ],
      "metadata": {
        "colab": {
          "base_uri": "https://localhost:8080/"
        },
        "id": "OreGtO5aSJDM",
        "outputId": "cebc21fb-37c1-4903-c409-e11a544a8556"
      },
      "execution_count": 158,
      "outputs": [
        {
          "output_type": "stream",
          "name": "stdout",
          "text": [
            "220/220 [==============================] - 1s 2ms/step - loss: 1.2093 - accuracy: 0.7917\n",
            "accuracy: 79.17%\n"
          ]
        }
      ]
    },
    {
      "cell_type": "markdown",
      "source": [
        "**Observation**\n",
        "\n",
        "* Trained the neural network on the entire dataset\n",
        "* Used the .evaluate() function.\n",
        "\n",
        "* The function returned two variables\n",
        "\n",
        "1.   Loss of the model on the dataset (1.6105)\n",
        "2.   Accuracy of the model on the dataset (79.17%) using 'option' optimizer.\n",
        "\n"
      ],
      "metadata": {
        "id": "sb2TACUPo38e"
      }
    },
    {
      "cell_type": "markdown",
      "source": [
        "\n",
        "## **6. Challenging The Solution**\n",
        "\n",
        "> "
      ],
      "metadata": {
        "id": "WVIfSqObpuA8"
      }
    },
    {
      "cell_type": "markdown",
      "source": [
        "### 6.1 Use RMSProp Optimizer"
      ],
      "metadata": {
        "id": "Ci5KUECYuYK9"
      }
    },
    {
      "cell_type": "code",
      "source": [
        "#importing the required libraries for creating neural networks\n",
        "import tensorflow as tf\n",
        "from keras.models import Sequential\n",
        "from keras.optimizers import SGD\n",
        "from tensorflow.python.keras.layers import Input, Dense"
      ],
      "metadata": {
        "id": "eco6I7t9ssVd"
      },
      "execution_count": 128,
      "outputs": []
    },
    {
      "cell_type": "code",
      "source": [
        "#creating the x and y variables\n",
        "X=df2.drop(['Churn'],axis=1)\n",
        "y=df2['Churn']"
      ],
      "metadata": {
        "id": "Zqhk8P9vssVd"
      },
      "execution_count": 129,
      "outputs": []
    },
    {
      "cell_type": "code",
      "source": [
        "# Define our model\n",
        "# Use sequential;a linear stack of layers\n",
        "\n",
        "model11= Sequential()"
      ],
      "metadata": {
        "id": "btrLm-YAssVe"
      },
      "execution_count": 161,
      "outputs": []
    },
    {
      "cell_type": "code",
      "source": [
        "# Specify our input layer; to ensure it has the right number of inputs using the\n",
        "# input_dim argument \n",
        "\n",
        "input_dim=19\n"
      ],
      "metadata": {
        "id": "DkAXwCQJssVe"
      },
      "execution_count": 162,
      "outputs": []
    },
    {
      "cell_type": "code",
      "source": [
        "# Specify the dense class with the fully connected layers\n",
        "\n",
        "model11 = Sequential()\n",
        "model11.add(Dense(15, input_dim=19, activation='relu'))\n",
        "model11.add(Dense(10, activation='relu'))\n",
        "model11.add(Dense(1,activation='sigmoid'))                       "
      ],
      "metadata": {
        "id": "WarM62AqssVe"
      },
      "execution_count": 163,
      "outputs": []
    },
    {
      "cell_type": "code",
      "source": [
        "# Compile the model\n",
        "# Specify the loss function, optimizer\n",
        "#opt=SGD(lr=0.01, momentum=0.9)\n",
        "model11.compile(loss='binary_crossentropy', optimizer='RMSprop', metrics=['accuracy'])"
      ],
      "metadata": {
        "id": "cPVhfVfKssVe"
      },
      "execution_count": 164,
      "outputs": []
    },
    {
      "cell_type": "code",
      "source": [
        "# Fit the model\n",
        "model11.fit(X, y, epochs=15, batch_size=10)"
      ],
      "metadata": {
        "colab": {
          "base_uri": "https://localhost:8080/"
        },
        "outputId": "0503d4b3-4fe9-4636-9bcf-2b63cbd09ff8",
        "id": "m8JaQybbssVf"
      },
      "execution_count": 165,
      "outputs": [
        {
          "output_type": "stream",
          "name": "stdout",
          "text": [
            "Epoch 1/15\n",
            "704/704 [==============================] - 3s 2ms/step - loss: 2.3266 - accuracy: 0.7288\n",
            "Epoch 2/15\n",
            "704/704 [==============================] - 2s 2ms/step - loss: 0.8729 - accuracy: 0.7332\n",
            "Epoch 3/15\n",
            "704/704 [==============================] - 2s 2ms/step - loss: 0.8238 - accuracy: 0.7425\n",
            "Epoch 4/15\n",
            "704/704 [==============================] - 2s 2ms/step - loss: 0.7922 - accuracy: 0.7506\n",
            "Epoch 5/15\n",
            "704/704 [==============================] - 2s 2ms/step - loss: 0.7466 - accuracy: 0.7489\n",
            "Epoch 6/15\n",
            "704/704 [==============================] - 1s 2ms/step - loss: 0.7330 - accuracy: 0.7555\n",
            "Epoch 7/15\n",
            "704/704 [==============================] - 1s 2ms/step - loss: 0.7090 - accuracy: 0.7568\n",
            "Epoch 8/15\n",
            "704/704 [==============================] - 1s 2ms/step - loss: 0.6758 - accuracy: 0.7597\n",
            "Epoch 9/15\n",
            "704/704 [==============================] - 2s 2ms/step - loss: 0.6445 - accuracy: 0.7631\n",
            "Epoch 10/15\n",
            "704/704 [==============================] - 1s 2ms/step - loss: 0.6360 - accuracy: 0.7631\n",
            "Epoch 11/15\n",
            "704/704 [==============================] - 1s 2ms/step - loss: 0.6026 - accuracy: 0.7588\n",
            "Epoch 12/15\n",
            "704/704 [==============================] - 2s 2ms/step - loss: 0.6099 - accuracy: 0.7609\n",
            "Epoch 13/15\n",
            "704/704 [==============================] - 1s 2ms/step - loss: 0.5842 - accuracy: 0.7656\n",
            "Epoch 14/15\n",
            "704/704 [==============================] - 2s 2ms/step - loss: 0.5345 - accuracy: 0.7639\n",
            "Epoch 15/15\n",
            "704/704 [==============================] - 2s 2ms/step - loss: 0.5223 - accuracy: 0.7735\n"
          ]
        },
        {
          "output_type": "execute_result",
          "data": {
            "text/plain": [
              "<keras.callbacks.History at 0x7f8b9ec818d0>"
            ]
          },
          "metadata": {},
          "execution_count": 165
        }
      ]
    },
    {
      "cell_type": "code",
      "source": [
        "\n",
        "# Evaluate performance of the model on the dataset using evaluate function.\n",
        "\n",
        "accuracy = model11.evaluate(X, y)\n",
        "print(\"%s: %.2f%%\" % (model11.metrics_names[1], accuracy[1]*100))"
      ],
      "metadata": {
        "colab": {
          "base_uri": "https://localhost:8080/"
        },
        "outputId": "dfe89eb5-1d9f-465d-f094-b524974785a4",
        "id": "z1ARwKVUssVf"
      },
      "execution_count": 169,
      "outputs": [
        {
          "output_type": "stream",
          "name": "stdout",
          "text": [
            "220/220 [==============================] - 1s 4ms/step - loss: 0.4318 - accuracy: 0.7956\n",
            "accuracy: 79.56%\n"
          ]
        }
      ]
    },
    {
      "cell_type": "markdown",
      "source": [
        "**Observation**\n",
        "\n",
        "* The accuracy of the model has increased to 79.16% when using RMSprop optimizer"
      ],
      "metadata": {
        "id": "XNP_gYaqvUF3"
      }
    },
    {
      "cell_type": "markdown",
      "source": [
        "### 6.2 XGBoost"
      ],
      "metadata": {
        "id": "sUGk6YJZqUfB"
      }
    },
    {
      "cell_type": "code",
      "source": [
        "# Create the train and test dataset\n",
        "\n",
        "#Import the train-test split\n",
        "from sklearn.model_selection import train_test_split\n",
        "\n",
        "# Divide into train and test sets\n",
        "train_X, test_X, train_y, test_y=train_test_split(X,y, test_size=0.30, random_state= 101, stratify=y)"
      ],
      "metadata": {
        "id": "TdkWKB30rNTc"
      },
      "execution_count": 136,
      "outputs": []
    },
    {
      "cell_type": "code",
      "source": [
        "#XGBOOST\n",
        "from xgboost import XGBClassifier\n",
        "from sklearn.model_selection import train_test_split\n",
        "from sklearn.metrics import accuracy_score\n",
        "from sklearn.model_selection import train_test_split\n",
        "\n",
        "model = XGBClassifier()\n",
        "model.fit(train_X, train_y)"
      ],
      "metadata": {
        "colab": {
          "base_uri": "https://localhost:8080/"
        },
        "id": "gorV5GC7i-0y",
        "outputId": "6c3c0a98-a6c0-4575-848c-d9e64800a3f8"
      },
      "execution_count": 137,
      "outputs": [
        {
          "output_type": "execute_result",
          "data": {
            "text/plain": [
              "XGBClassifier()"
            ]
          },
          "metadata": {},
          "execution_count": 137
        }
      ]
    },
    {
      "cell_type": "code",
      "source": [
        "# make predictions for test data\n",
        "y_pred = model.predict(test_X)\n",
        "predictions = [round(value) for value in y_pred]"
      ],
      "metadata": {
        "id": "Y2JNkSpjj1f_"
      },
      "execution_count": 138,
      "outputs": []
    },
    {
      "cell_type": "code",
      "source": [
        "# evaluate predictions\n",
        "accuracy = accuracy_score(test_y, predictions)\n",
        "print(\"Accuracy: %.2f%%\" % (accuracy * 100.0))"
      ],
      "metadata": {
        "colab": {
          "base_uri": "https://localhost:8080/"
        },
        "id": "lU-HHREGkEZ_",
        "outputId": "4716dfe0-a576-4f8d-ccaa-44607e1d0023"
      },
      "execution_count": 139,
      "outputs": [
        {
          "output_type": "stream",
          "name": "stdout",
          "text": [
            "Accuracy: 80.95%\n"
          ]
        }
      ]
    },
    {
      "cell_type": "code",
      "source": [
        "from sklearn.metrics import classification_report, confusion_matrix\n",
        "print(confusion_matrix(test_y,predictions))\n",
        "print(classification_report(test_y, predictions))"
      ],
      "metadata": {
        "colab": {
          "base_uri": "https://localhost:8080/"
        },
        "id": "ONe4chxok3dh",
        "outputId": "8c8e608f-af73-4503-c900-19be76abf090"
      },
      "execution_count": 140,
      "outputs": [
        {
          "output_type": "stream",
          "name": "stdout",
          "text": [
            "[[1421  128]\n",
            " [ 274  287]]\n",
            "              precision    recall  f1-score   support\n",
            "\n",
            "           0       0.84      0.92      0.88      1549\n",
            "           1       0.69      0.51      0.59       561\n",
            "\n",
            "    accuracy                           0.81      2110\n",
            "   macro avg       0.76      0.71      0.73      2110\n",
            "weighted avg       0.80      0.81      0.80      2110\n",
            "\n"
          ]
        }
      ]
    },
    {
      "cell_type": "markdown",
      "source": [
        "**Observation**\n",
        "* XGBoost achieves an accuracy of 81% \n",
        "\n",
        "* 1421 samples were correctly predicted\n",
        "\n",
        "* 128 samples were incorrectly as positive\n",
        "\n",
        "> XGBoost algorithm correctly predicts the customer churn rate than our deep learning algorithm."
      ],
      "metadata": {
        "id": "DGpSDVTbtONI"
      }
    },
    {
      "cell_type": "markdown",
      "source": [
        "## **7. Conclusion**\n",
        "\n",
        "Customer churn is unfavorable to a company's profitablity. Several strategies should be implemented to lower the churn rate. In this case; \n",
        "\n",
        "* Churn rate is high in customers who use Fibre Optic compared to those who use DSLand those without any internet service.\n",
        "* Customers having no online security tend to have a higher churn rate.\n",
        "* Customers without online backup services are likely to churn.\n",
        "* Customers are likely to churn where there is no Tech Support.\n",
        "* Customers with monthly subscription tend to churn more as compared those with 1-2 year contract.\n",
        "* Customers who use paperless billing tend to churn more than those using paper billing."
      ],
      "metadata": {
        "id": "P7wNU0ImGSJN"
      }
    },
    {
      "cell_type": "markdown",
      "source": [
        "## **8. Recommendation**\n",
        "\n",
        "The telecom industry should consider the following recommendations to reduce customer churn rate;\n",
        "\n",
        "* Improve on Fibre Optic speed and connectivity\n",
        "* Enhance the security measures\n",
        "* Offer encrypted data storage services\n",
        "* Ensure timely responses to the customer queries\n",
        "* Offer affordable monthly packages"
      ],
      "metadata": {
        "id": "W5i0aW3TGdxa"
      }
    }
  ]
}